{
 "cells": [
  {
   "cell_type": "markdown",
   "metadata": {},
   "source": [
    "<div style=\" padding: 20px\"> <h1 style=\" margin-bottom:20px\">Шаг 1. Открываю файл с данными и изучию общую информацию</h1>\n",
    "\n",
    "Путь к файлам:\n",
    "/datasets/calls.csv. \n",
    "/datasets/internet.csv. \n",
    "/datasets/messages.csv. \n",
    "/datasets/tariffs.csv. \n",
    "/datasets/users.csv. "
   ]
  },
  {
   "cell_type": "code",
   "execution_count": 2,
   "metadata": {},
   "outputs": [
    {
     "name": "stdout",
     "output_type": "stream",
     "text": [
      "       id   call_date  duration  user_id\n",
      "0  1000_0  2018-07-25      0.00     1000\n",
      "1  1000_1  2018-08-17      0.00     1000\n",
      "2  1000_2  2018-06-11      2.85     1000\n",
      "3  1000_3  2018-09-21     13.80     1000\n",
      "4  1000_4  2018-12-15      5.18     1000\n",
      "<class 'pandas.core.frame.DataFrame'>\n",
      "RangeIndex: 202607 entries, 0 to 202606\n",
      "Data columns (total 4 columns):\n",
      "id           202607 non-null object\n",
      "call_date    202607 non-null object\n",
      "duration     202607 non-null float64\n",
      "user_id      202607 non-null int64\n",
      "dtypes: float64(1), int64(1), object(2)\n",
      "memory usage: 6.2+ MB\n",
      "None\n"
     ]
    }
   ],
   "source": [
    "import pandas as pd\n",
    "data_calls = pd.read_csv('/datasets/calls.csv')\n",
    "print(data_calls.head(5))\n",
    "print(data_calls.info())"
   ]
  },
  {
   "cell_type": "code",
   "execution_count": 3,
   "metadata": {},
   "outputs": [
    {
     "name": "stdout",
     "output_type": "stream",
     "text": [
      "   Unnamed: 0      id  mb_used session_date  user_id\n",
      "0           0  1000_0   112.95   2018-11-25     1000\n",
      "1           1  1000_1  1052.81   2018-09-07     1000\n",
      "2           2  1000_2  1197.26   2018-06-25     1000\n",
      "3           3  1000_3   550.27   2018-08-22     1000\n",
      "4           4  1000_4   302.56   2018-09-24     1000\n",
      "<class 'pandas.core.frame.DataFrame'>\n",
      "RangeIndex: 149396 entries, 0 to 149395\n",
      "Data columns (total 5 columns):\n",
      "Unnamed: 0      149396 non-null int64\n",
      "id              149396 non-null object\n",
      "mb_used         149396 non-null float64\n",
      "session_date    149396 non-null object\n",
      "user_id         149396 non-null int64\n",
      "dtypes: float64(1), int64(2), object(2)\n",
      "memory usage: 5.7+ MB\n",
      "None\n"
     ]
    }
   ],
   "source": [
    "data_internet = pd.read_csv('/datasets/internet.csv')\n",
    "print(data_internet.head(5))\n",
    "print(data_internet.info())"
   ]
  },
  {
   "cell_type": "code",
   "execution_count": 4,
   "metadata": {},
   "outputs": [
    {
     "name": "stdout",
     "output_type": "stream",
     "text": [
      "       id message_date  user_id\n",
      "0  1000_0   2018-06-27     1000\n",
      "1  1000_1   2018-10-08     1000\n",
      "2  1000_2   2018-08-04     1000\n",
      "3  1000_3   2018-06-16     1000\n",
      "4  1000_4   2018-12-05     1000\n",
      "<class 'pandas.core.frame.DataFrame'>\n",
      "RangeIndex: 123036 entries, 0 to 123035\n",
      "Data columns (total 3 columns):\n",
      "id              123036 non-null object\n",
      "message_date    123036 non-null object\n",
      "user_id         123036 non-null int64\n",
      "dtypes: int64(1), object(2)\n",
      "memory usage: 2.8+ MB\n",
      "None\n"
     ]
    }
   ],
   "source": [
    "data_messages = pd.read_csv('/datasets/messages.csv')\n",
    "print(data_messages.head(5))\n",
    "print(data_messages.info())"
   ]
  },
  {
   "cell_type": "code",
   "execution_count": 5,
   "metadata": {},
   "outputs": [
    {
     "name": "stdout",
     "output_type": "stream",
     "text": [
      "   messages_included  mb_per_month_included  minutes_included  \\\n",
      "0                 50                  15360               500   \n",
      "1               1000                  30720              3000   \n",
      "\n",
      "   rub_monthly_fee  rub_per_gb  rub_per_message  rub_per_minute tariff_name  \n",
      "0              550         200                3               3       smart  \n",
      "1             1950         150                1               1       ultra  \n",
      "<class 'pandas.core.frame.DataFrame'>\n",
      "RangeIndex: 2 entries, 0 to 1\n",
      "Data columns (total 8 columns):\n",
      "messages_included        2 non-null int64\n",
      "mb_per_month_included    2 non-null int64\n",
      "minutes_included         2 non-null int64\n",
      "rub_monthly_fee          2 non-null int64\n",
      "rub_per_gb               2 non-null int64\n",
      "rub_per_message          2 non-null int64\n",
      "rub_per_minute           2 non-null int64\n",
      "tariff_name              2 non-null object\n",
      "dtypes: int64(7), object(1)\n",
      "memory usage: 256.0+ bytes\n",
      "None\n"
     ]
    }
   ],
   "source": [
    "data_tariffs = pd.read_csv('/datasets/tariffs.csv')\n",
    "print(data_tariffs.head(5))\n",
    "print(data_tariffs.info())"
   ]
  },
  {
   "cell_type": "code",
   "execution_count": 6,
   "metadata": {},
   "outputs": [
    {
     "name": "stdout",
     "output_type": "stream",
     "text": [
      "   user_id  age churn_date         city first_name  last_name    reg_date  \\\n",
      "0     1000   52        NaN    Краснодар     Рафаил  Верещагин  2018-05-25   \n",
      "1     1001   41        NaN       Москва       Иван       Ежов  2018-11-01   \n",
      "2     1002   59        NaN  Стерлитамак    Евгений  Абрамович  2018-06-17   \n",
      "3     1003   23        NaN       Москва      Белла   Белякова  2018-08-17   \n",
      "4     1004   68        NaN  Новокузнецк    Татьяна   Авдеенко  2018-05-14   \n",
      "\n",
      "  tariff  \n",
      "0  ultra  \n",
      "1  smart  \n",
      "2  smart  \n",
      "3  ultra  \n",
      "4  ultra  \n",
      "<class 'pandas.core.frame.DataFrame'>\n",
      "RangeIndex: 500 entries, 0 to 499\n",
      "Data columns (total 8 columns):\n",
      "user_id       500 non-null int64\n",
      "age           500 non-null int64\n",
      "churn_date    38 non-null object\n",
      "city          500 non-null object\n",
      "first_name    500 non-null object\n",
      "last_name     500 non-null object\n",
      "reg_date      500 non-null object\n",
      "tariff        500 non-null object\n",
      "dtypes: int64(2), object(6)\n",
      "memory usage: 31.4+ KB\n",
      "None\n"
     ]
    }
   ],
   "source": [
    "data_users = pd.read_csv('/datasets/users.csv')\n",
    "print(data_users.head(5))\n",
    "print(data_users.info())"
   ]
  },
  {
   "cell_type": "markdown",
   "metadata": {},
   "source": [
    "<div style=\" padding: 20px\"> <h1 style=\" margin-bottom:20px\">Шаг 2. Подготавливаю данные</h1>\n",
    "\n",
    "Привожу данные к нужным типам;\n",
    "Нахожу и исправляю ошибки в данных.\n",
    "\n",
    "Подготовка данных\n",
    "Привединие данных к нужным типам;\n",
    "1)В данных дату перевели из текста в дату\n",
    "2)Проверили на дубликаты\n"
   ]
  },
  {
   "cell_type": "code",
   "execution_count": 7,
   "metadata": {},
   "outputs": [
    {
     "name": "stdout",
     "output_type": "stream",
     "text": [
      "  id_calls  call_date  duration  user_id\n",
      "0   1000_0 2018-07-25      0.00     1000\n",
      "1   1000_1 2018-08-17      0.00     1000\n",
      "2   1000_2 2018-06-11      2.85     1000\n",
      "3   1000_3 2018-09-21     13.80     1000\n",
      "4   1000_4 2018-12-15      5.18     1000\n",
      "<class 'pandas.core.frame.DataFrame'>\n",
      "RangeIndex: 202607 entries, 0 to 202606\n",
      "Data columns (total 4 columns):\n",
      "id_calls     202607 non-null object\n",
      "call_date    202607 non-null datetime64[ns]\n",
      "duration     202607 non-null float64\n",
      "user_id      202607 non-null int64\n",
      "dtypes: datetime64[ns](1), float64(1), int64(1), object(1)\n",
      "memory usage: 6.2+ MB\n",
      "None\n",
      "0\n"
     ]
    }
   ],
   "source": [
    "import datetime\n",
    "data_calls['call_date'] = pd.to_datetime(data_calls['call_date'], format='%Y-%m-%d')\n",
    "data_calls.rename(columns={'id': 'id_calls'}, inplace=True)\n",
    "print(data_calls.head(5))\n",
    "print(data_calls.info())\n",
    "print(data_calls.duplicated().sum())\n"
   ]
  },
  {
   "cell_type": "code",
   "execution_count": 8,
   "metadata": {},
   "outputs": [
    {
     "name": "stdout",
     "output_type": "stream",
     "text": [
      "   Unnamed: 0 id_internet  mb_used session_date  user_id\n",
      "0           0      1000_0   112.95   2018-11-25     1000\n",
      "1           1      1000_1  1052.81   2018-09-07     1000\n",
      "2           2      1000_2  1197.26   2018-06-25     1000\n",
      "3           3      1000_3   550.27   2018-08-22     1000\n",
      "4           4      1000_4   302.56   2018-09-24     1000\n",
      "<class 'pandas.core.frame.DataFrame'>\n",
      "RangeIndex: 149396 entries, 0 to 149395\n",
      "Data columns (total 5 columns):\n",
      "Unnamed: 0      149396 non-null int64\n",
      "id_internet     149396 non-null object\n",
      "mb_used         149396 non-null float64\n",
      "session_date    149396 non-null datetime64[ns]\n",
      "user_id         149396 non-null int64\n",
      "dtypes: datetime64[ns](1), float64(1), int64(2), object(1)\n",
      "memory usage: 5.7+ MB\n",
      "None\n",
      "0\n"
     ]
    }
   ],
   "source": [
    "data_internet['session_date'] = pd.to_datetime(data_internet['session_date'], format='%Y-%m-%d')\n",
    "data_internet.rename(columns={'id': 'id_internet'}, inplace=True)\n",
    "print(data_internet.head(5))\n",
    "print(data_internet.info())\n",
    "print(data_internet.duplicated().sum())"
   ]
  },
  {
   "cell_type": "code",
   "execution_count": 9,
   "metadata": {},
   "outputs": [
    {
     "name": "stdout",
     "output_type": "stream",
     "text": [
      "  id_messages message_date  user_id\n",
      "0      1000_0   2018-06-27     1000\n",
      "1      1000_1   2018-10-08     1000\n",
      "2      1000_2   2018-08-04     1000\n",
      "3      1000_3   2018-06-16     1000\n",
      "4      1000_4   2018-12-05     1000\n",
      "<class 'pandas.core.frame.DataFrame'>\n",
      "RangeIndex: 123036 entries, 0 to 123035\n",
      "Data columns (total 3 columns):\n",
      "id_messages     123036 non-null object\n",
      "message_date    123036 non-null datetime64[ns]\n",
      "user_id         123036 non-null int64\n",
      "dtypes: datetime64[ns](1), int64(1), object(1)\n",
      "memory usage: 2.8+ MB\n",
      "None\n",
      "0\n"
     ]
    }
   ],
   "source": [
    "data_messages['message_date'] = pd.to_datetime(data_messages['message_date'], format='%Y-%m-%d')\n",
    "data_messages.rename(columns={'id': 'id_messages'}, inplace=True)\n",
    "print(data_messages.head(5))\n",
    "print(data_messages.info())\n",
    "print(data_messages.duplicated().sum())"
   ]
  },
  {
   "cell_type": "code",
   "execution_count": 10,
   "metadata": {},
   "outputs": [
    {
     "name": "stdout",
     "output_type": "stream",
     "text": [
      "   user_id  age churn_date         city first_name  last_name   reg_date  \\\n",
      "0     1000   52        NaN    Краснодар     Рафаил  Верещагин 2018-05-25   \n",
      "1     1001   41        NaN       Москва       Иван       Ежов 2018-11-01   \n",
      "2     1002   59        NaN  Стерлитамак    Евгений  Абрамович 2018-06-17   \n",
      "3     1003   23        NaN       Москва      Белла   Белякова 2018-08-17   \n",
      "4     1004   68        NaN  Новокузнецк    Татьяна   Авдеенко 2018-05-14   \n",
      "\n",
      "  tariff  \n",
      "0  ultra  \n",
      "1  smart  \n",
      "2  smart  \n",
      "3  ultra  \n",
      "4  ultra  \n",
      "<class 'pandas.core.frame.DataFrame'>\n",
      "RangeIndex: 500 entries, 0 to 499\n",
      "Data columns (total 8 columns):\n",
      "user_id       500 non-null int64\n",
      "age           500 non-null int64\n",
      "churn_date    38 non-null object\n",
      "city          500 non-null object\n",
      "first_name    500 non-null object\n",
      "last_name     500 non-null object\n",
      "reg_date      500 non-null datetime64[ns]\n",
      "tariff        500 non-null object\n",
      "dtypes: datetime64[ns](1), int64(2), object(5)\n",
      "memory usage: 31.4+ KB\n",
      "None\n",
      "0\n"
     ]
    }
   ],
   "source": [
    "data_users['reg_date'] = pd.to_datetime(data_users['reg_date'], format='%Y-%m-%d')\n",
    "print(data_users.head(5))\n",
    "print(data_users.info())\n",
    "print(data_users.duplicated().sum())"
   ]
  },
  {
   "cell_type": "markdown",
   "metadata": {},
   "source": [
    "Я удалила нулевые значение в duration. Ноль значит на звонок не ответили и он в расчеты не принимается"
   ]
  },
  {
   "cell_type": "code",
   "execution_count": 11,
   "metadata": {},
   "outputs": [
    {
     "name": "stdout",
     "output_type": "stream",
     "text": [
      "  id_calls  call_date  duration  user_id\n",
      "2   1000_2 2018-06-11      2.85     1000\n",
      "3   1000_3 2018-09-21     13.80     1000\n",
      "4   1000_4 2018-12-15      5.18     1000\n",
      "7   1000_7 2018-08-22     18.31     1000\n",
      "8   1000_8 2018-09-15     18.44     1000\n"
     ]
    }
   ],
   "source": [
    "data_calls=data_calls.drop(data_calls.index[data_calls['duration'] == 0].tolist())\n",
    "print(data_calls.head())"
   ]
  },
  {
   "cell_type": "markdown",
   "metadata": {},
   "source": [
    "Посчитала для каждого пользователя:\n",
    "количество сделанных звонков и израсходованных минут разговора по месяцам;\n",
    "количество отправленных сообщений по месяцам;\n",
    "объем израсходованного интернет-трафика по месяцам;"
   ]
  },
  {
   "cell_type": "code",
   "execution_count": 12,
   "metadata": {},
   "outputs": [
    {
     "name": "stdout",
     "output_type": "stream",
     "text": [
      "   user_id  month  кол-во звонков\n",
      "0     1000      5              17\n",
      "1     1000      6              28\n",
      "2     1000      7              41\n",
      "3     1000      8              42\n",
      "4     1000      9              46\n"
     ]
    }
   ],
   "source": [
    "data_calls['month'] = data_calls['call_date'].dt.month\n",
    "data1 = data_calls.groupby(['user_id','month'])['id_calls'].count().reset_index(name='кол-во звонков')\n",
    "print(data1.head())"
   ]
  },
  {
   "cell_type": "code",
   "execution_count": 13,
   "metadata": {},
   "outputs": [
    {
     "name": "stdout",
     "output_type": "stream",
     "text": [
      "   user_id  month  кол-во израсходованных минут\n",
      "0     1000      5                        150.06\n",
      "1     1000      6                        158.90\n",
      "2     1000      7                        318.80\n",
      "3     1000      8                        389.87\n",
      "4     1000      9                        440.14\n"
     ]
    }
   ],
   "source": [
    "data_calls['month'] = data_calls['call_date'].dt.month\n",
    "data2 = data_calls.groupby(['user_id','month'])['duration'].sum().reset_index(name='кол-во израсходованных минут')\n",
    "print(data2.head())"
   ]
  },
  {
   "cell_type": "code",
   "execution_count": 14,
   "metadata": {},
   "outputs": [
    {
     "name": "stdout",
     "output_type": "stream",
     "text": [
      "   user_id  month  кол-во отправленных сообщений\n",
      "0     1000      5                             22\n",
      "1     1000      6                             60\n",
      "2     1000      7                             75\n",
      "3     1000      8                             81\n",
      "4     1000      9                             57\n"
     ]
    }
   ],
   "source": [
    "data_messages['month'] = data_messages['message_date'].dt.month\n",
    "data3 = data_messages.groupby(['user_id','month'])['id_messages'].count().reset_index(name='кол-во отправленных сообщений')\n",
    "print(data3.head())"
   ]
  },
  {
   "cell_type": "code",
   "execution_count": 15,
   "metadata": {},
   "outputs": [
    {
     "name": "stdout",
     "output_type": "stream",
     "text": [
      "   user_id  month  объем израсходованного интернет-трафика\n",
      "0     1000      5                                  2253.49\n",
      "1     1000      6                                 23233.77\n",
      "2     1000      7                                 14003.64\n",
      "3     1000      8                                 14055.93\n",
      "4     1000      9                                 14568.91\n"
     ]
    }
   ],
   "source": [
    "data_internet['month'] = data_internet['session_date'].dt.month\n",
    "data4 = data_internet.groupby(['user_id','month'])['mb_used'].sum().reset_index(name='объем израсходованного интернет-трафика')\n",
    "print(data4.head())"
   ]
  },
  {
   "cell_type": "code",
   "execution_count": 16,
   "metadata": {},
   "outputs": [
    {
     "name": "stdout",
     "output_type": "stream",
     "text": [
      "   user_id  month  объем израсходованного интернет-трафика  \\\n",
      "0     1000      5                                  2253.49   \n",
      "1     1000      6                                 23233.77   \n",
      "2     1000      7                                 14003.64   \n",
      "3     1000      8                                 14055.93   \n",
      "4     1000      9                                 14568.91   \n",
      "\n",
      "   кол-во отправленных сообщений  кол-во израсходованных минут  \n",
      "0                           22.0                        150.06  \n",
      "1                           60.0                        158.90  \n",
      "2                           75.0                        318.80  \n",
      "3                           81.0                        389.87  \n",
      "4                           57.0                        440.14  \n"
     ]
    }
   ],
   "source": [
    "data4 = data4.merge(data3, on = ['user_id','month'],  how = 'outer')\n",
    "data4 = data4.merge(data2, on = ['user_id','month'],  how = 'outer')\n",
    "print(data4.head())"
   ]
  },
  {
   "cell_type": "markdown",
   "metadata": {},
   "source": [
    "Посчитала для каждого пользователя:\n",
    "помесячную выручку с каждого пользователя (вычтите бесплатный лимит из суммарного количества звонков, сообщений и интернет-трафика; остаток умножьте на значение из тарифного плана; прибавьте абонентскую плату, соответствующую тарифному плану).\n",
    "Для этого соединим таблицы. Округнила значения объем израсходованного интернет-трафика и кол-во израсходованных минут вверх."
   ]
  },
  {
   "cell_type": "code",
   "execution_count": 17,
   "metadata": {},
   "outputs": [
    {
     "name": "stdout",
     "output_type": "stream",
     "text": [
      "   user_id  month  объем израсходованного интернет-трафика  \\\n",
      "0     1000    5.0                                   2254.0   \n",
      "1     1000    6.0                                  23234.0   \n",
      "2     1000    7.0                                  14004.0   \n",
      "3     1000    8.0                                  14056.0   \n",
      "4     1000    9.0                                  14569.0   \n",
      "\n",
      "   кол-во отправленных сообщений  кол-во израсходованных минут tariff  \\\n",
      "0                           22.0                         151.0  ultra   \n",
      "1                           60.0                         159.0  ultra   \n",
      "2                           75.0                         319.0  ultra   \n",
      "3                           81.0                         390.0  ultra   \n",
      "4                           57.0                         441.0  ultra   \n",
      "\n",
      "   minutes_included  rub_per_minute  mb_per_month_included  rub_per_gb  \\\n",
      "0              3000               1                  30720         150   \n",
      "1              3000               1                  30720         150   \n",
      "2              3000               1                  30720         150   \n",
      "3              3000               1                  30720         150   \n",
      "4              3000               1                  30720         150   \n",
      "\n",
      "   messages_included  rub_per_message  rub_monthly_fee      int    mes    call  \n",
      "0               1000                1             1950 -28466.0 -978.0 -2849.0  \n",
      "1               1000                1             1950  -7486.0 -940.0 -2841.0  \n",
      "2               1000                1             1950 -16716.0 -925.0 -2681.0  \n",
      "3               1000                1             1950 -16664.0 -919.0 -2610.0  \n",
      "4               1000                1             1950 -16151.0 -943.0 -2559.0  \n"
     ]
    }
   ],
   "source": [
    "data_tariffs.rename(columns={'tariff_name': 'tariff'}, inplace=True)\n",
    "df4 = data4.merge(data_users[['user_id','tariff']], on = ['user_id'],  how = 'outer')\n",
    "df = df4.merge(data_tariffs[[ 'minutes_included', 'rub_per_minute', 'mb_per_month_included', 'rub_per_gb' , 'messages_included', 'rub_per_message','rub_monthly_fee','tariff']], on = ['tariff'],  how = 'outer')\n",
    "\n",
    "import numpy as np\n",
    "df['объем израсходованного интернет-трафика'] = df['объем израсходованного интернет-трафика'].apply(np.ceil)\n",
    "df['кол-во израсходованных минут'] = df['кол-во израсходованных минут'].apply(np.ceil)\n",
    "df['int'] = (df['объем израсходованного интернет-трафика'] - df['mb_per_month_included'])\n",
    "df['mes'] = df['кол-во отправленных сообщений'] - df['messages_included']\n",
    "df['call'] = df['кол-во израсходованных минут'] - df['minutes_included']\n",
    "print(df.head())"
   ]
  },
  {
   "cell_type": "markdown",
   "metadata": {},
   "source": [
    "Написала функцию для учета только, тех клиентов, кто превысил тариф"
   ]
  },
  {
   "cell_type": "code",
   "execution_count": 18,
   "metadata": {},
   "outputs": [
    {
     "name": "stdout",
     "output_type": "stream",
     "text": [
      "   user_id  month  объем израсходованного интернет-трафика  \\\n",
      "0     1000    5.0                                   2254.0   \n",
      "1     1000    6.0                                  23234.0   \n",
      "2     1000    7.0                                  14004.0   \n",
      "3     1000    8.0                                  14056.0   \n",
      "4     1000    9.0                                  14569.0   \n",
      "\n",
      "   кол-во отправленных сообщений  кол-во израсходованных минут tariff  \\\n",
      "0                           22.0                         151.0  ultra   \n",
      "1                           60.0                         159.0  ultra   \n",
      "2                           75.0                         319.0  ultra   \n",
      "3                           81.0                         390.0  ultra   \n",
      "4                           57.0                         441.0  ultra   \n",
      "\n",
      "   minutes_included  rub_per_minute  mb_per_month_included  rub_per_gb  \\\n",
      "0              3000               1                  30720         150   \n",
      "1              3000               1                  30720         150   \n",
      "2              3000               1                  30720         150   \n",
      "3              3000               1                  30720         150   \n",
      "4              3000               1                  30720         150   \n",
      "\n",
      "   messages_included  rub_per_message  rub_monthly_fee  int  mes  call  \n",
      "0               1000                1             1950  0.0  0.0   0.0  \n",
      "1               1000                1             1950  0.0  0.0   0.0  \n",
      "2               1000                1             1950  0.0  0.0   0.0  \n",
      "3               1000                1             1950  0.0  0.0   0.0  \n",
      "4               1000                1             1950  0.0  0.0   0.0  \n"
     ]
    }
   ],
   "source": [
    "def positive(row):\n",
    "    if row['int'] < 0:\n",
    "        return 0\n",
    "    else: \n",
    "        return row['int']\n",
    "df['int'] = df.apply(positive, axis=1)\n",
    "def positive(row):\n",
    "    if row['mes'] < 0:\n",
    "        return 0\n",
    "    else: \n",
    "        return row['mes']\n",
    "df['mes'] = df.apply(positive, axis=1)\n",
    "def positive(row):\n",
    "    if row['call'] < 0:\n",
    "        return 0\n",
    "    else: \n",
    "        return row['call']    \n",
    "df['call'] = df.apply(positive, axis=1)\n",
    "print(df.head())"
   ]
  },
  {
   "cell_type": "markdown",
   "metadata": {},
   "source": [
    "Посчитала выручку"
   ]
  },
  {
   "cell_type": "code",
   "execution_count": 19,
   "metadata": {},
   "outputs": [
    {
     "name": "stdout",
     "output_type": "stream",
     "text": [
      "      user_id  month  объем израсходованного интернет-трафика  \\\n",
      "3211     1499    9.0                                   1846.0   \n",
      "3212     1499   10.0                                  17789.0   \n",
      "3213     1499   11.0                                  17964.0   \n",
      "3214     1499   12.0                                  13056.0   \n",
      "3215     1371    NaN                                      NaN   \n",
      "\n",
      "      кол-во отправленных сообщений  кол-во израсходованных минут tariff  \\\n",
      "3211                           11.0                          65.0  smart   \n",
      "3212                           48.0                         430.0  smart   \n",
      "3213                           59.0                         577.0  smart   \n",
      "3214                           66.0                         466.0  smart   \n",
      "3215                            NaN                           NaN  smart   \n",
      "\n",
      "      minutes_included  rub_per_minute  mb_per_month_included  rub_per_gb  \\\n",
      "3211               500               3                  15360         200   \n",
      "3212               500               3                  15360         200   \n",
      "3213               500               3                  15360         200   \n",
      "3214               500               3                  15360         200   \n",
      "3215               500               3                  15360         200   \n",
      "\n",
      "      messages_included  rub_per_message  rub_monthly_fee     int   mes  call  \\\n",
      "3211                 50                3              550     0.0   0.0   0.0   \n",
      "3212                 50                3              550  2429.0   0.0   0.0   \n",
      "3213                 50                3              550  2604.0   9.0  77.0   \n",
      "3214                 50                3              550     0.0  16.0   0.0   \n",
      "3215                 50                3              550     NaN   NaN   NaN   \n",
      "\n",
      "          выручка  \n",
      "3211   550.000000  \n",
      "3212  1024.414062  \n",
      "3213  1316.593750  \n",
      "3214   598.000000  \n",
      "3215          NaN  \n"
     ]
    }
   ],
   "source": [
    "df['выручка'] = df['int']*df['rub_per_gb']/1024+df['mes']*df['rub_per_message']+df['call']*df['rub_per_minute']+df['rub_monthly_fee']\n",
    "print(df.tail())"
   ]
  },
  {
   "cell_type": "markdown",
   "metadata": {},
   "source": [
    "<div style=\" padding: 20px\"> <h1 style=\" margin-bottom:20px\">Шаг 3. Анализ данных</h1>\n",
    "\n",
    "Построила гистограммы - сколько минут разговора, сколько сообщений и какой объём интернет-трафика требуется пользователям каждого тарифа в месяц. Посчитала среднее количество, дисперсию и стандартное отклонение. "
   ]
  },
  {
   "cell_type": "code",
   "execution_count": 20,
   "metadata": {},
   "outputs": [
    {
     "name": "stdout",
     "output_type": "stream",
     "text": [
      "Тариф Ультра. Среднее значение: 19469.3\n",
      "Дисперсия: 101751558.0\n",
      "Стандартное отклонение: 10087.2\n",
      "Тариф Смарт. Среднее значение: 16208.9\n",
      "Дисперсия: 34462562.8\n",
      "Стандартное отклонение: 5870.5\n"
     ]
    },
    {
     "data": {
      "image/png": "[encoded data removed]",
      "text/plain": [
       "<Figure size 432x288 with 1 Axes>"
      ]
     },
     "metadata": {
      "needs_background": "light"
     },
     "output_type": "display_data"
    }
   ],
   "source": [
    "import matplotlib.pyplot as plt\n",
    "df_ultra = df.query('tariff == \"ultra\"').groupby(['user_id','month'])['объем израсходованного интернет-трафика'].sum()\n",
    "print('Тариф Ультра. Среднее значение:',df_ultra.mean(axis=0).round(1))\n",
    "print('Дисперсия:',df_ultra.var().round(1))        \n",
    "print('Стандартное отклонение:',df_ultra.std(axis=0).round(1))\n",
    "df_smart = df.query('tariff == \"smart\"').groupby(['user_id','month'])['объем израсходованного интернет-трафика'].sum()\n",
    "print('Тариф Смарт. Среднее значение:',df_smart.mean(axis=0).round(1))\n",
    "print('Дисперсия:',df_smart.var().round(1))        \n",
    "print('Стандартное отклонение:',df_smart.std(axis=0).round(1))\n",
    "df_smart.hist()\n",
    "df_ultra.hist()\n",
    "plt.title(\"Объём интернет-трафика в месяц\", fontsize = 12)\n",
    "plt.legend('upper left')\n",
    "plt.show()\n"
   ]
  },
  {
   "cell_type": "code",
   "execution_count": 21,
   "metadata": {},
   "outputs": [
    {
     "name": "stdout",
     "output_type": "stream",
     "text": [
      "Тариф Ультра. Среднее значение: 497.5\n",
      "Дисперсия: 89957.7\n",
      "Стандартное отклонение: 299.9\n",
      "Тариф Смарт. Среднее значение: 394.9\n",
      "Дисперсия: 32392.9\n",
      "Стандартное отклонение: 180.0\n"
     ]
    },
    {
     "data": {
      "image/png": "[encoded data removed]",
      "text/plain": [
       "<Figure size 432x288 with 1 Axes>"
      ]
     },
     "metadata": {
      "needs_background": "light"
     },
     "output_type": "display_data"
    }
   ],
   "source": [
    "df_ultra = df.query('tariff == \"ultra\"').groupby(['user_id','month'])['кол-во израсходованных минут'].sum()\n",
    "print('Тариф Ультра. Среднее значение:',df_ultra.mean(axis=0).round(1))\n",
    "print('Дисперсия:',df_ultra.var().round(1))        \n",
    "print('Стандартное отклонение:',df_ultra.std(axis=0).round(1))\n",
    "df_smart = df.query('tariff == \"smart\"').groupby(['user_id','month'])['кол-во израсходованных минут'].sum()\n",
    "print('Тариф Смарт. Среднее значение:',df_smart.mean(axis=0).round(1))\n",
    "print('Дисперсия:',df_smart.var().round(1))        \n",
    "print('Стандартное отклонение:',df_smart.std(axis=0).round(1))\n",
    "df_smart.hist()\n",
    "df_ultra.hist()\n",
    "plt.title(\"Сколько минут разговора требуется пользователям каждого тарифа в месяц\", fontsize = 12)\n",
    "plt.legend('upper left')\n",
    "plt.show()"
   ]
  },
  {
   "cell_type": "code",
   "execution_count": 22,
   "metadata": {},
   "outputs": [
    {
     "name": "stdout",
     "output_type": "stream",
     "text": [
      "Тариф Ультра. Среднее значение: 49.4\n",
      "Дисперсия: 2285.3\n",
      "Стандартное отклонение: 47.8\n",
      "Тариф Смарт. Среднее значение: 33.4\n",
      "Дисперсия: 796.8\n",
      "Стандартное отклонение: 28.2\n"
     ]
    },
    {
     "data": {
      "image/png": "[encoded data removed]",
      "text/plain": [
       "<Figure size 432x288 with 1 Axes>"
      ]
     },
     "metadata": {
      "needs_background": "light"
     },
     "output_type": "display_data"
    }
   ],
   "source": [
    "df_ultra = df.query('tariff == \"ultra\"').groupby(['user_id','month'])['кол-во отправленных сообщений'].sum()\n",
    "print('Тариф Ультра. Среднее значение:',df_ultra.mean(axis=0).round(1))\n",
    "print('Дисперсия:',df_ultra.var().round(1))        \n",
    "print('Стандартное отклонение:',df_ultra.std(axis=0).round(1))\n",
    "df_smart = df.query('tariff == \"smart\"').groupby(['user_id','month'])['кол-во отправленных сообщений'].sum()\n",
    "print('Тариф Смарт. Среднее значение:',df_smart.mean(axis=0).round(1))\n",
    "print('Дисперсия:',df_smart.var().round(1))        \n",
    "print('Стандартное отклонение:',df_smart.std(axis=0).round(1))\n",
    "df_smart.hist()\n",
    "df_ultra.hist()\n",
    "plt.title(\"Сколько сообщений требуется пользователям каждого тарифа в месяц\", fontsize = 12)\n",
    "plt.legend('upper left')\n",
    "plt.show()"
   ]
  },
  {
   "cell_type": "markdown",
   "metadata": {},
   "source": [
    "Построенные гистограммы  сколько минут разговора и какой объём интернет-трафика требуется пользователям каждого тарифа в месяц имеют нормальное распределение. А гистограмма  сколько сообщений требуется пользователям каждого тарифа в месяц стремится к нулю. Наверно люди сообщениями почти не пользуются."
   ]
  },
  {
   "cell_type": "markdown",
   "metadata": {},
   "source": [
    "<div style=\" padding: 20px\"> <h1 style=\" margin-bottom:20px\">Шаг 4. Провка гипотезы</h1>"
   ]
  },
  {
   "cell_type": "code",
   "execution_count": 23,
   "metadata": {},
   "outputs": [
    {
     "data": {
      "image/png": "[encoded data removed]",
      "text/plain": [
       "<Figure size 432x288 with 1 Axes>"
      ]
     },
     "metadata": {
      "needs_background": "light"
     },
     "output_type": "display_data"
    },
    {
     "name": "stdout",
     "output_type": "stream",
     "text": [
      "Smart  1028.943076351503\n",
      "Ultra  1028.943076351503\n"
     ]
    }
   ],
   "source": [
    "df_ultra = df.query('tariff == \"ultra\"').groupby(['user_id','month'])['выручка'].sum()\n",
    "df_smart = df.query('tariff == \"smart\"').groupby(['user_id','month'])['выручка'].sum()\n",
    "df_smart.hist(range=(500,4000))\n",
    "df_ultra.hist(range=(500,4000))\n",
    "plt.title(\"Средняя выручка пользователей тарифов «Ультра» и «Смарт»\", fontsize = 12)\n",
    "plt.legend('upper left') \n",
    "plt.show()\n",
    "  \n",
    "print('Smart ',np.mean(df_smart))\n",
    "print('Ultra ',np.mean(df_smart))"
   ]
  },
  {
   "cell_type": "code",
   "execution_count": 24,
   "metadata": {},
   "outputs": [
    {
     "name": "stdout",
     "output_type": "stream",
     "text": [
      "554\n",
      "0\n",
      "p-значение: 6.347958319075951e-160\n",
      "Отвергаем нулевую гипотезу\n"
     ]
    }
   ],
   "source": [
    "print(df['выручка'].isna().sum())\n",
    "df.dropna(subset = ['выручка'], inplace=True)\n",
    "print(df['выручка'].isna().sum())\n",
    "from scipy import stats as st\n",
    "alpha = .05\n",
    "# задаем критический уровень статистической значимости\n",
    "\n",
    "ultra = df.query('tariff == \"ultra\"')['выручка']\n",
    "smart = df.query('tariff == \"smart\"')['выручка']\n",
    "results = st.ttest_ind(ultra, smart)\n",
    "#  проверяем гипотезу о равенстве средних двух независимых совокупностей\n",
    "\n",
    "print('p-значение:',results.pvalue)\n",
    "\n",
    "if (results.pvalue < alpha):\n",
    "    print(\"Отвергаем нулевую гипотезу\")\n",
    "else:\n",
    "    print(\"Не получилось отвергнуть нулевую гипотезу\")\n",
    "   "
   ]
  },
  {
   "cell_type": "markdown",
   "metadata": {},
   "source": [
    "Формулируем нулевую гипотезу - средняя выручка пользователей тарифов «Ультра» и «Смарт» не различается\n",
    "Альтернативную гипотезы - средняя выручка пользователей тарифов «Ультра» и «Смарт» различается\n",
    "Пороговое значение alpha задала 0,05.\n",
    "Критерий  для проверки гипотез P-value < alpha=0.05\n",
    "P-value это число между 0 и 1, которое говорит нам, если разница между нашим наблюдениями выборок, и наши гипотезы сильно различаются. Опорное значение – это 0.05.\n",
    "\n",
    "Разница статистически значима, если p-value меньше 0.05.\n",
    "И разница статистически не значима, если p-value больше 0.05.\n"
   ]
  },
  {
   "cell_type": "code",
   "execution_count": 25,
   "metadata": {},
   "outputs": [
    {
     "name": "stdout",
     "output_type": "stream",
     "text": [
      "81\n",
      "0\n"
     ]
    },
    {
     "data": {
      "image/png": "[encoded data removed]",
      "text/plain": [
       "<Figure size 432x288 with 1 Axes>"
      ]
     },
     "metadata": {
      "needs_background": "light"
     },
     "output_type": "display_data"
    }
   ],
   "source": [
    "df_city = df.merge(data_users, on = ['user_id','tariff'],  how = 'outer')\n",
    "print(df_city['выручка'].isna().sum())\n",
    "df_city.dropna(subset = ['выручка'], inplace=True)\n",
    "print(df_city['выручка'].isna().sum())\n",
    "Moscow = df_city.query('city == \"Москва\"')['выручка']\n",
    "Russia_without_Moscow = df_city.query('city != \"Москва\"')['выручка']\n",
    "Russia_without_Moscow.hist(range=(500,4000))\n",
    "Moscow.hist(range=(500,4000))\n",
    "plt.title(\"Средняя выручка пользователей из Москвы от выручки пользователей из других регионов»\", fontsize = 12)\n",
    "plt.legend('upper left') \n",
    "plt.show()\n"
   ]
  },
  {
   "cell_type": "code",
   "execution_count": 26,
   "metadata": {},
   "outputs": [
    {
     "name": "stdout",
     "output_type": "stream",
     "text": [
      "p-значение: 0.04895917234400628\n",
      "Отвергаем нулевую гипотезу\n"
     ]
    }
   ],
   "source": [
    "alpha = .05\n",
    "# задаем критический уровень статистической значимости\n",
    "\n",
    "results = st.ttest_ind(Russia_without_Moscow, Moscow)\n",
    "#  проверяем гипотезу о равенстве средних двух независимых совокупностей\n",
    "\n",
    "print('p-значение:',results.pvalue)\n",
    "\n",
    "if (results.pvalue < alpha):\n",
    "    print(\"Отвергаем нулевую гипотезу\")\n",
    "else:\n",
    "    print(\"Не получилось отвергнуть нулевую гипотезу\")"
   ]
  },
  {
   "cell_type": "markdown",
   "metadata": {},
   "source": [
    "Формулируем нулевую гипотезу - средняя выручка пользователей из Москвы не отличается от выручки пользователей из других регионов\n",
    "Альтернативную гипотезы - средняя выручка пользователей из Москвы отличается от выручки пользователей из других регионов\n",
    "Пороговое значение alpha задала 0,05.\n",
    "Критерий  для проверки гипотез P-value < alpha=0.05\n",
    "P-value это число между 0 и 1, которое говорит нам, если разница между нашим наблюдениями выборок, и наши гипотезы сильно различаются. Опорное значение – это 0.05.\n",
    "\n",
    "Разница статистически значима, если p-value меньше 0.05.\n",
    "И разница статистически не значима, если p-value больше 0.05.\n"
   ]
  },
  {
   "cell_type": "markdown",
   "metadata": {},
   "source": [
    "<div style=\" padding: 20px\"> <h1 style=\" margin-bottom:20px\">Шаг 5. Общий вывод</h1>\n",
    "Итак, я опровергла гипотезу о равенстве средних двух тарифов.\n",
    "Вычислила среднюю в одной группе, среднюю во второй группе и сравнила их. Тарифный план «Ультра» приносит больше денег."
   ]
  }
 ],
 "metadata": {
  "kernelspec": {
   "display_name": "Python 3",
   "language": "python",
   "name": "python3"
  },
  "language_info": {
   "codemirror_mode": {
    "name": "ipython",
    "version": 3
   },
   "file_extension": ".py",
   "mimetype": "text/x-python",
   "name": "python",
   "nbconvert_exporter": "python",
   "pygments_lexer": "ipython3",
   "version": "3.8.5"
  }
 },
 "nbformat": 4,
 "nbformat_minor": 2
}
