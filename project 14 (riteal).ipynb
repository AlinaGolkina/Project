{
 "cells": [
  {
   "cell_type": "markdown",
   "metadata": {},
   "source": [
    "<p style=\"font-family: verdana; color: dodgerblue\">Привет, Татьяна! 👋🏻</p>"
   ]
  },
  {
   "cell_type": "markdown",
   "metadata": {},
   "source": [
    "## Ритейл - Анализ программы лояльности"
   ]
  },
  {
   "cell_type": "markdown",
   "metadata": {},
   "source": [
    "### Задача**:**\n",
    "\n",
    "Проанализируйте программу лояльности магазина.\n",
    "\n",
    "- Проведите исследовательский анализ данных;\n",
    "- Проведите анализ программы лояльности;\n",
    "- Сформулируйте и проверьте статистические гипотезы."
   ]
  },
  {
   "cell_type": "markdown",
   "metadata": {},
   "source": [
    "### Описание данных:\n",
    "\n",
    "Датасет содержит данные о покупках в магазине строительных материалов «Строили, строили и наконец построили». Все покупатели могут получить доступ в магазин с использованием персональных карт. За 200 рублей в месяц они могут стать участниками программы лояльности. В программу включены скидки, специальные предложения, подарки.\n",
    "\n",
    "Файл retail_dataset.csv:\n",
    "\n",
    "- `purchaseId` — id чека;\n",
    "- `item_ID` — id товара;\n",
    "- `purchasedate` — дата покупки;\n",
    "- `Quantity` — количество товара;\n",
    "- `CustomerID` — id покупателя;\n",
    "- `ShopID` — id магазина;\n",
    "- `loyalty_program` — участвует ли покупатель в программе лояльности;\n",
    "\n",
    "Файл product_codes.csv:\n",
    "\n",
    "- `productID` — id товара;\n",
    "- `price_per_one` — стоимость одной единицы товара;\n",
    "\n",
    "По итогам исследования подготовьте презентацию. Для создания презентации используйте любой удобный инструмент, но отправить презентацию нужно **обязательно** в формате **pdf,** прикрепив ссылку на файл в основном проекте."
   ]
  },
  {
   "cell_type": "markdown",
   "metadata": {},
   "source": [
    "##  Декомпозиция\n",
    "\n",
    "\n",
    "#### Шаг 1. Открыть файл с данными и изучить общую информацию\n",
    "\n",
    "#### Шаг 2. Подготовить данные\n",
    "\n",
    "Приведите данные к нужным типам;\n",
    "\n",
    "Найдите и исправьте ошибки в данных.\n",
    "\n",
    "Поясните, какие ошибки вы нашли и как их исправили. \n",
    "\n",
    "Решить обрабатывать ли эти нулевые значения\n",
    "\n",
    "Посчитайте для каждого пользователя:\n",
    "\n",
    "чек;\n",
    "\n",
    "выручку;\n",
    "\n",
    "количество товаров в корзине;\n",
    "\n",
    "#### Шаг 3. Проанализировать данные\n",
    "\n",
    "\n",
    "Разделить пользователей с картой лояльности и без. Построить графики количества товаров в корзине и тд\n",
    "\n",
    "Описать поведение клиентов оператора, исходя из выборки. Построить графики. Описать гипотезу стат методами. \n",
    "Выбрать односторонняя или двусторонняя гипотезу\n",
    "\n",
    "\n",
    "Гипотеза -  Отличается ли выручка (чаще или больше покупают) покупателей по программе лояльности или без\n",
    "\n",
    "#### Шаг 4. Проверьте гипотезы\n",
    "\n",
    "Выбрать пороговое значение alpha задайте самостоятельно.\n",
    "\n",
    "Описать как формулировали нулевую и альтернативную гипотезы;\n",
    "\n",
    "какой критерий использовали для проверки гипотез и почему.\n",
    "\n",
    "#### Шаг 5. Напишите общий вывод\n",
    "\n",
    "Оформление: Задание выполнитm в Jupyter Notebook и добавить презентацию\n"
   ]
  },
  {
   "cell_type": "markdown",
   "metadata": {},
   "source": [
    "## Ссылка на дашборд"
   ]
  },
  {
   "cell_type": "markdown",
   "metadata": {},
   "source": [
    "https://public.tableau.com/profile/tatiana2933#!/vizhome/dash_15997705520710/Dashboard1?publish=yes"
   ]
  },
  {
   "cell_type": "markdown",
   "metadata": {},
   "source": [
    "## Ссылка на презентацию"
   ]
  },
  {
   "cell_type": "markdown",
   "metadata": {},
   "source": [
    "https://yadi.sk/i/Pg-bIn0LiCtn_w"
   ]
  },
  {
   "cell_type": "markdown",
   "metadata": {},
   "source": [
    "## Оглавление: "
   ]
  },
  {
   "cell_type": "markdown",
   "metadata": {},
   "source": [
    "#### 1. [Шаг 1. Открываю файлы с данными и изучию общую информацию](#step1)  \n",
    "#### 2. [Шаг 2. Подготавливаю данные](#step2)  \n",
    "#### 3. [Шаг 3. Исследовательский анализ данных](#step3)      \n",
    "#### 4. [Средний чек](#step4) \n",
    "#### 5. [Средние количество товаров в чеке](#step5) \n",
    "#### 6. [Средняя выручка](#step6) \n",
    "#### 7. [Количество чеков на пользователя](#step7) \n",
    "#### 8. [Проверка статистической гипотезы](#step8) \n",
    "#### 9. [Шаг 5. Общий вывод](#step9)"
   ]
  },
  {
   "cell_type": "markdown",
   "metadata": {},
   "source": [
    "<div style=\" padding: 20px\"> <h1 style=\" margin-bottom:20px\">Шаг 1. Открываю файлы с данными и изучию общую информацию</h1><a id=\"step1\"></a>   \n",
    "</div>"
   ]
  },
  {
   "cell_type": "code",
   "execution_count": 381,
   "metadata": {},
   "outputs": [
    {
     "data": {
      "text/html": [
       "<div>\n",
       "<style scoped>\n",
       "    .dataframe tbody tr th:only-of-type {\n",
       "        vertical-align: middle;\n",
       "    }\n",
       "\n",
       "    .dataframe tbody tr th {\n",
       "        vertical-align: top;\n",
       "    }\n",
       "\n",
       "    .dataframe thead th {\n",
       "        text-align: right;\n",
       "    }\n",
       "</style>\n",
       "<table border=\"1\" class=\"dataframe\">\n",
       "  <thead>\n",
       "    <tr style=\"text-align: right;\">\n",
       "      <th></th>\n",
       "      <th>productID</th>\n",
       "      <th>price_per_one</th>\n",
       "    </tr>\n",
       "  </thead>\n",
       "  <tbody>\n",
       "    <tr>\n",
       "      <td>0</td>\n",
       "      <td>85123A</td>\n",
       "      <td>2.55</td>\n",
       "    </tr>\n",
       "    <tr>\n",
       "      <td>1</td>\n",
       "      <td>71053</td>\n",
       "      <td>3.39</td>\n",
       "    </tr>\n",
       "    <tr>\n",
       "      <td>2</td>\n",
       "      <td>84406B</td>\n",
       "      <td>2.75</td>\n",
       "    </tr>\n",
       "    <tr>\n",
       "      <td>3</td>\n",
       "      <td>84029G</td>\n",
       "      <td>3.39</td>\n",
       "    </tr>\n",
       "    <tr>\n",
       "      <td>4</td>\n",
       "      <td>84029E</td>\n",
       "      <td>3.39</td>\n",
       "    </tr>\n",
       "  </tbody>\n",
       "</table>\n",
       "</div>"
      ],
      "text/plain": [
       "  productID  price_per_one\n",
       "0    85123A           2.55\n",
       "1     71053           3.39\n",
       "2    84406B           2.75\n",
       "3    84029G           3.39\n",
       "4    84029E           3.39"
      ]
     },
     "execution_count": 381,
     "metadata": {},
     "output_type": "execute_result"
    }
   ],
   "source": [
    "import pandas as pd\n",
    "import seaborn as sns\n",
    "import matplotlib.pyplot as plt\n",
    "import numpy as np\n",
    "\n",
    "product_codes = pd.read_csv('https://getfile.dokpub.com/yandex/get/https://yadi.sk/d/VNiABso4xD44UQ')\n",
    "product_codes.head(5)"
   ]
  },
  {
   "cell_type": "code",
   "execution_count": 382,
   "metadata": {},
   "outputs": [
    {
     "name": "stdout",
     "output_type": "stream",
     "text": [
      "<class 'pandas.core.frame.DataFrame'>\n",
      "RangeIndex: 9969 entries, 0 to 9968\n",
      "Data columns (total 2 columns):\n",
      "productID        9969 non-null object\n",
      "price_per_one    9969 non-null float64\n",
      "dtypes: float64(1), object(1)\n",
      "memory usage: 155.9+ KB\n"
     ]
    }
   ],
   "source": [
    "product_codes.info()"
   ]
  },
  {
   "cell_type": "code",
   "execution_count": 383,
   "metadata": {},
   "outputs": [
    {
     "data": {
      "text/html": [
       "<div>\n",
       "<style scoped>\n",
       "    .dataframe tbody tr th:only-of-type {\n",
       "        vertical-align: middle;\n",
       "    }\n",
       "\n",
       "    .dataframe tbody tr th {\n",
       "        vertical-align: top;\n",
       "    }\n",
       "\n",
       "    .dataframe thead th {\n",
       "        text-align: right;\n",
       "    }\n",
       "</style>\n",
       "<table border=\"1\" class=\"dataframe\">\n",
       "  <thead>\n",
       "    <tr style=\"text-align: right;\">\n",
       "      <th></th>\n",
       "      <th>price_per_one</th>\n",
       "    </tr>\n",
       "  </thead>\n",
       "  <tbody>\n",
       "    <tr>\n",
       "      <td>count</td>\n",
       "      <td>9969.000000</td>\n",
       "    </tr>\n",
       "    <tr>\n",
       "      <td>mean</td>\n",
       "      <td>19.503697</td>\n",
       "    </tr>\n",
       "    <tr>\n",
       "      <td>std</td>\n",
       "      <td>330.880754</td>\n",
       "    </tr>\n",
       "    <tr>\n",
       "      <td>min</td>\n",
       "      <td>0.000000</td>\n",
       "    </tr>\n",
       "    <tr>\n",
       "      <td>25%</td>\n",
       "      <td>1.250000</td>\n",
       "    </tr>\n",
       "    <tr>\n",
       "      <td>50%</td>\n",
       "      <td>2.550000</td>\n",
       "    </tr>\n",
       "    <tr>\n",
       "      <td>75%</td>\n",
       "      <td>5.510000</td>\n",
       "    </tr>\n",
       "    <tr>\n",
       "      <td>max</td>\n",
       "      <td>16888.020000</td>\n",
       "    </tr>\n",
       "  </tbody>\n",
       "</table>\n",
       "</div>"
      ],
      "text/plain": [
       "       price_per_one\n",
       "count    9969.000000\n",
       "mean       19.503697\n",
       "std       330.880754\n",
       "min         0.000000\n",
       "25%         1.250000\n",
       "50%         2.550000\n",
       "75%         5.510000\n",
       "max     16888.020000"
      ]
     },
     "execution_count": 383,
     "metadata": {},
     "output_type": "execute_result"
    }
   ],
   "source": [
    "product_codes.describe()"
   ]
  },
  {
   "cell_type": "code",
   "execution_count": 384,
   "metadata": {},
   "outputs": [
    {
     "data": {
      "text/html": [
       "<div>\n",
       "<style scoped>\n",
       "    .dataframe tbody tr th:only-of-type {\n",
       "        vertical-align: middle;\n",
       "    }\n",
       "\n",
       "    .dataframe tbody tr th {\n",
       "        vertical-align: top;\n",
       "    }\n",
       "\n",
       "    .dataframe thead th {\n",
       "        text-align: right;\n",
       "    }\n",
       "</style>\n",
       "<table border=\"1\" class=\"dataframe\">\n",
       "  <thead>\n",
       "    <tr style=\"text-align: right;\">\n",
       "      <th></th>\n",
       "      <th>purchaseid</th>\n",
       "      <th>item_ID</th>\n",
       "      <th>Quantity</th>\n",
       "      <th>purchasedate</th>\n",
       "      <th>CustomerID</th>\n",
       "      <th>ShopID</th>\n",
       "      <th>loyalty_program</th>\n",
       "    </tr>\n",
       "  </thead>\n",
       "  <tbody>\n",
       "    <tr>\n",
       "      <td>0</td>\n",
       "      <td>538280</td>\n",
       "      <td>21873</td>\n",
       "      <td>11</td>\n",
       "      <td>2016-12-10 12:50:00</td>\n",
       "      <td>18427.0</td>\n",
       "      <td>Shop 0</td>\n",
       "      <td>0.0</td>\n",
       "    </tr>\n",
       "    <tr>\n",
       "      <td>1</td>\n",
       "      <td>538862</td>\n",
       "      <td>22195</td>\n",
       "      <td>0</td>\n",
       "      <td>2016-12-14 14:11:00</td>\n",
       "      <td>22389.0</td>\n",
       "      <td>Shop 0</td>\n",
       "      <td>1.0</td>\n",
       "    </tr>\n",
       "    <tr>\n",
       "      <td>2</td>\n",
       "      <td>538855</td>\n",
       "      <td>21239</td>\n",
       "      <td>7</td>\n",
       "      <td>2016-12-14 13:50:00</td>\n",
       "      <td>22182.0</td>\n",
       "      <td>Shop 0</td>\n",
       "      <td>1.0</td>\n",
       "    </tr>\n",
       "    <tr>\n",
       "      <td>3</td>\n",
       "      <td>543543</td>\n",
       "      <td>22271</td>\n",
       "      <td>0</td>\n",
       "      <td>2017-02-09 15:33:00</td>\n",
       "      <td>23522.0</td>\n",
       "      <td>Shop 0</td>\n",
       "      <td>1.0</td>\n",
       "    </tr>\n",
       "    <tr>\n",
       "      <td>4</td>\n",
       "      <td>543812</td>\n",
       "      <td>79321</td>\n",
       "      <td>0</td>\n",
       "      <td>2017-02-13 14:40:00</td>\n",
       "      <td>23151.0</td>\n",
       "      <td>Shop 0</td>\n",
       "      <td>1.0</td>\n",
       "    </tr>\n",
       "  </tbody>\n",
       "</table>\n",
       "</div>"
      ],
      "text/plain": [
       "  purchaseid item_ID  Quantity         purchasedate  CustomerID  ShopID  \\\n",
       "0     538280   21873        11  2016-12-10 12:50:00     18427.0  Shop 0   \n",
       "1     538862   22195         0  2016-12-14 14:11:00     22389.0  Shop 0   \n",
       "2     538855   21239         7  2016-12-14 13:50:00     22182.0  Shop 0   \n",
       "3     543543   22271         0  2017-02-09 15:33:00     23522.0  Shop 0   \n",
       "4     543812   79321         0  2017-02-13 14:40:00     23151.0  Shop 0   \n",
       "\n",
       "   loyalty_program  \n",
       "0              0.0  \n",
       "1              1.0  \n",
       "2              1.0  \n",
       "3              1.0  \n",
       "4              1.0  "
      ]
     },
     "execution_count": 384,
     "metadata": {},
     "output_type": "execute_result"
    }
   ],
   "source": [
    "retail_dataset = pd.read_csv('https://getfile.dokpub.com/yandex/get/https://yadi.sk/d/SKmLQSQUq-ezAA')\n",
    "retail_dataset.head(5)"
   ]
  },
  {
   "cell_type": "code",
   "execution_count": 385,
   "metadata": {},
   "outputs": [
    {
     "name": "stdout",
     "output_type": "stream",
     "text": [
      "<class 'pandas.core.frame.DataFrame'>\n",
      "RangeIndex: 105335 entries, 0 to 105334\n",
      "Data columns (total 7 columns):\n",
      "purchaseid         105335 non-null object\n",
      "item_ID            105335 non-null object\n",
      "Quantity           105335 non-null int64\n",
      "purchasedate       105335 non-null object\n",
      "CustomerID         69125 non-null float64\n",
      "ShopID             105335 non-null object\n",
      "loyalty_program    105335 non-null float64\n",
      "dtypes: float64(2), int64(1), object(4)\n",
      "memory usage: 5.6+ MB\n"
     ]
    }
   ],
   "source": [
    "retail_dataset.info()"
   ]
  },
  {
   "cell_type": "code",
   "execution_count": 386,
   "metadata": {},
   "outputs": [
    {
     "data": {
      "text/html": [
       "<div>\n",
       "<style scoped>\n",
       "    .dataframe tbody tr th:only-of-type {\n",
       "        vertical-align: middle;\n",
       "    }\n",
       "\n",
       "    .dataframe tbody tr th {\n",
       "        vertical-align: top;\n",
       "    }\n",
       "\n",
       "    .dataframe thead th {\n",
       "        text-align: right;\n",
       "    }\n",
       "</style>\n",
       "<table border=\"1\" class=\"dataframe\">\n",
       "  <thead>\n",
       "    <tr style=\"text-align: right;\">\n",
       "      <th></th>\n",
       "      <th>purchaseid</th>\n",
       "      <th>item_ID</th>\n",
       "      <th>Quantity</th>\n",
       "      <th>purchasedate</th>\n",
       "      <th>CustomerID</th>\n",
       "      <th>ShopID</th>\n",
       "      <th>loyalty_program</th>\n",
       "      <th>purchasedate_new</th>\n",
       "    </tr>\n",
       "  </thead>\n",
       "  <tbody>\n",
       "    <tr>\n",
       "      <td>0</td>\n",
       "      <td>538280</td>\n",
       "      <td>21873</td>\n",
       "      <td>11</td>\n",
       "      <td>2016-12-10 12:50:00</td>\n",
       "      <td>18427.0</td>\n",
       "      <td>Shop 0</td>\n",
       "      <td>0</td>\n",
       "      <td>2016-12-10 12:50:00</td>\n",
       "    </tr>\n",
       "    <tr>\n",
       "      <td>1</td>\n",
       "      <td>538862</td>\n",
       "      <td>22195</td>\n",
       "      <td>0</td>\n",
       "      <td>2016-12-14 14:11:00</td>\n",
       "      <td>22389.0</td>\n",
       "      <td>Shop 0</td>\n",
       "      <td>1</td>\n",
       "      <td>2016-12-14 14:11:00</td>\n",
       "    </tr>\n",
       "    <tr>\n",
       "      <td>2</td>\n",
       "      <td>538855</td>\n",
       "      <td>21239</td>\n",
       "      <td>7</td>\n",
       "      <td>2016-12-14 13:50:00</td>\n",
       "      <td>22182.0</td>\n",
       "      <td>Shop 0</td>\n",
       "      <td>1</td>\n",
       "      <td>2016-12-14 13:50:00</td>\n",
       "    </tr>\n",
       "    <tr>\n",
       "      <td>3</td>\n",
       "      <td>543543</td>\n",
       "      <td>22271</td>\n",
       "      <td>0</td>\n",
       "      <td>2017-02-09 15:33:00</td>\n",
       "      <td>23522.0</td>\n",
       "      <td>Shop 0</td>\n",
       "      <td>1</td>\n",
       "      <td>2017-02-09 15:33:00</td>\n",
       "    </tr>\n",
       "    <tr>\n",
       "      <td>4</td>\n",
       "      <td>543812</td>\n",
       "      <td>79321</td>\n",
       "      <td>0</td>\n",
       "      <td>2017-02-13 14:40:00</td>\n",
       "      <td>23151.0</td>\n",
       "      <td>Shop 0</td>\n",
       "      <td>1</td>\n",
       "      <td>2017-02-13 14:40:00</td>\n",
       "    </tr>\n",
       "  </tbody>\n",
       "</table>\n",
       "</div>"
      ],
      "text/plain": [
       "  purchaseid item_ID  Quantity         purchasedate  CustomerID  ShopID  \\\n",
       "0     538280   21873        11  2016-12-10 12:50:00     18427.0  Shop 0   \n",
       "1     538862   22195         0  2016-12-14 14:11:00     22389.0  Shop 0   \n",
       "2     538855   21239         7  2016-12-14 13:50:00     22182.0  Shop 0   \n",
       "3     543543   22271         0  2017-02-09 15:33:00     23522.0  Shop 0   \n",
       "4     543812   79321         0  2017-02-13 14:40:00     23151.0  Shop 0   \n",
       "\n",
       "   loyalty_program    purchasedate_new  \n",
       "0                0 2016-12-10 12:50:00  \n",
       "1                1 2016-12-14 14:11:00  \n",
       "2                1 2016-12-14 13:50:00  \n",
       "3                1 2017-02-09 15:33:00  \n",
       "4                1 2017-02-13 14:40:00  "
      ]
     },
     "execution_count": 386,
     "metadata": {},
     "output_type": "execute_result"
    }
   ],
   "source": [
    "retail_dataset['purchasedate_new'] = pd.to_datetime(retail_dataset['purchasedate'], format='%Y.%m.%d %H:%M:%S')\n",
    "retail_dataset['loyalty_program'] = retail_dataset['loyalty_program'].astype('int')\n",
    "retail_dataset.head(5)"
   ]
  },
  {
   "cell_type": "code",
   "execution_count": 387,
   "metadata": {},
   "outputs": [
    {
     "data": {
      "text/plain": [
       "purchaseid              0\n",
       "item_ID                 0\n",
       "Quantity                0\n",
       "purchasedate            0\n",
       "CustomerID          36210\n",
       "ShopID                  0\n",
       "loyalty_program         0\n",
       "purchasedate_new        0\n",
       "dtype: int64"
      ]
     },
     "execution_count": 387,
     "metadata": {},
     "output_type": "execute_result"
    }
   ],
   "source": [
    "retail_dataset.isna().sum()"
   ]
  },
  {
   "cell_type": "code",
   "execution_count": 388,
   "metadata": {},
   "outputs": [
    {
     "data": {
      "text/plain": [
       "1033"
      ]
     },
     "execution_count": 388,
     "metadata": {},
     "output_type": "execute_result"
    }
   ],
   "source": [
    "retail_dataset.duplicated().sum()"
   ]
  },
  {
   "cell_type": "code",
   "execution_count": 389,
   "metadata": {},
   "outputs": [
    {
     "data": {
      "text/plain": [
       "0"
      ]
     },
     "execution_count": 389,
     "metadata": {},
     "output_type": "execute_result"
    }
   ],
   "source": [
    "retail_dataset = retail_dataset.drop_duplicates().reset_index(drop = True)\n",
    "retail_dataset.duplicated().sum()"
   ]
  },
  {
   "cell_type": "code",
   "execution_count": 390,
   "metadata": {},
   "outputs": [
    {
     "data": {
      "text/html": [
       "<div>\n",
       "<style scoped>\n",
       "    .dataframe tbody tr th:only-of-type {\n",
       "        vertical-align: middle;\n",
       "    }\n",
       "\n",
       "    .dataframe tbody tr th {\n",
       "        vertical-align: top;\n",
       "    }\n",
       "\n",
       "    .dataframe thead th {\n",
       "        text-align: right;\n",
       "    }\n",
       "</style>\n",
       "<table border=\"1\" class=\"dataframe\">\n",
       "  <thead>\n",
       "    <tr style=\"text-align: right;\">\n",
       "      <th></th>\n",
       "      <th>Quantity</th>\n",
       "      <th>CustomerID</th>\n",
       "      <th>loyalty_program</th>\n",
       "    </tr>\n",
       "  </thead>\n",
       "  <tbody>\n",
       "    <tr>\n",
       "      <td>count</td>\n",
       "      <td>104302.000000</td>\n",
       "      <td>68154.000000</td>\n",
       "      <td>104302.000000</td>\n",
       "    </tr>\n",
       "    <tr>\n",
       "      <td>mean</td>\n",
       "      <td>7.883003</td>\n",
       "      <td>21011.165889</td>\n",
       "      <td>0.224464</td>\n",
       "    </tr>\n",
       "    <tr>\n",
       "      <td>std</td>\n",
       "      <td>329.565540</td>\n",
       "      <td>1766.665163</td>\n",
       "      <td>0.417231</td>\n",
       "    </tr>\n",
       "    <tr>\n",
       "      <td>min</td>\n",
       "      <td>-74216.000000</td>\n",
       "      <td>18025.000000</td>\n",
       "      <td>0.000000</td>\n",
       "    </tr>\n",
       "    <tr>\n",
       "      <td>25%</td>\n",
       "      <td>0.000000</td>\n",
       "      <td>19533.000000</td>\n",
       "      <td>0.000000</td>\n",
       "    </tr>\n",
       "    <tr>\n",
       "      <td>50%</td>\n",
       "      <td>2.000000</td>\n",
       "      <td>20977.000000</td>\n",
       "      <td>0.000000</td>\n",
       "    </tr>\n",
       "    <tr>\n",
       "      <td>75%</td>\n",
       "      <td>7.000000</td>\n",
       "      <td>22633.000000</td>\n",
       "      <td>0.000000</td>\n",
       "    </tr>\n",
       "    <tr>\n",
       "      <td>max</td>\n",
       "      <td>74214.000000</td>\n",
       "      <td>23962.000000</td>\n",
       "      <td>1.000000</td>\n",
       "    </tr>\n",
       "  </tbody>\n",
       "</table>\n",
       "</div>"
      ],
      "text/plain": [
       "            Quantity    CustomerID  loyalty_program\n",
       "count  104302.000000  68154.000000    104302.000000\n",
       "mean        7.883003  21011.165889         0.224464\n",
       "std       329.565540   1766.665163         0.417231\n",
       "min    -74216.000000  18025.000000         0.000000\n",
       "25%         0.000000  19533.000000         0.000000\n",
       "50%         2.000000  20977.000000         0.000000\n",
       "75%         7.000000  22633.000000         0.000000\n",
       "max     74214.000000  23962.000000         1.000000"
      ]
     },
     "execution_count": 390,
     "metadata": {},
     "output_type": "execute_result"
    }
   ],
   "source": [
    "retail_dataset.describe()"
   ]
  },
  {
   "cell_type": "markdown",
   "metadata": {},
   "source": [
    "<div style=\" padding: 20px\"> <h1 style=\" margin-bottom:20px\">Шаг 2. Подготавливаю данные</h1><a id=\"step2\"></a>   \n",
    "</div>  "
   ]
  },
  {
   "cell_type": "code",
   "execution_count": 391,
   "metadata": {},
   "outputs": [
    {
     "data": {
      "text/plain": [
       "3159"
      ]
     },
     "execution_count": 391,
     "metadata": {},
     "output_type": "execute_result"
    }
   ],
   "source": [
    "product_codes['productID'].nunique()"
   ]
  },
  {
   "cell_type": "code",
   "execution_count": 392,
   "metadata": {},
   "outputs": [
    {
     "data": {
      "text/plain": [
       "9969"
      ]
     },
     "execution_count": 392,
     "metadata": {},
     "output_type": "execute_result"
    }
   ],
   "source": [
    "product_codes['price_per_one'].count()"
   ]
  },
  {
   "cell_type": "code",
   "execution_count": 393,
   "metadata": {},
   "outputs": [
    {
     "data": {
      "text/plain": [
       "productID        9587\n",
       "price_per_one    9587\n",
       "dtype: int64"
      ]
     },
     "execution_count": 393,
     "metadata": {},
     "output_type": "execute_result"
    }
   ],
   "source": [
    "product_codes.loc[product_codes['price_per_one'] != 0].count()"
   ]
  },
  {
   "cell_type": "code",
   "execution_count": 394,
   "metadata": {},
   "outputs": [
    {
     "data": {
      "text/plain": [
       "productID        2494\n",
       "price_per_one    2494\n",
       "dtype: int64"
      ]
     },
     "execution_count": 394,
     "metadata": {},
     "output_type": "execute_result"
    }
   ],
   "source": [
    "dubl = product_codes.groupby('productID')['price_per_one'].nunique().reset_index()\n",
    "dubl.query('price_per_one!=1').count()"
   ]
  },
  {
   "cell_type": "code",
   "execution_count": 395,
   "metadata": {},
   "outputs": [
    {
     "data": {
      "text/plain": [
       "productID\n",
       "10002            1.380\n",
       "10080            0.850\n",
       "10120            0.210\n",
       "10123C           0.650\n",
       "10124A           0.420\n",
       "                 ...  \n",
       "gift_0001_20    16.845\n",
       "gift_0001_30    25.265\n",
       "gift_0001_40    34.040\n",
       "gift_0001_50    42.550\n",
       "m                2.550\n",
       "Name: price_per_one, Length: 3159, dtype: float64"
      ]
     },
     "execution_count": 395,
     "metadata": {},
     "output_type": "execute_result"
    }
   ],
   "source": [
    "new_product_codes = product_codes.groupby('productID')['price_per_one'].mean()\n",
    "new_product_codes"
   ]
  },
  {
   "cell_type": "markdown",
   "metadata": {},
   "source": [
    "#### ОБЪЕДИНЕНИЕ ДАТАФРЕЙМОВ"
   ]
  },
  {
   "cell_type": "code",
   "execution_count": 396,
   "metadata": {},
   "outputs": [
    {
     "data": {
      "text/html": [
       "<div>\n",
       "<style scoped>\n",
       "    .dataframe tbody tr th:only-of-type {\n",
       "        vertical-align: middle;\n",
       "    }\n",
       "\n",
       "    .dataframe tbody tr th {\n",
       "        vertical-align: top;\n",
       "    }\n",
       "\n",
       "    .dataframe thead th {\n",
       "        text-align: right;\n",
       "    }\n",
       "</style>\n",
       "<table border=\"1\" class=\"dataframe\">\n",
       "  <thead>\n",
       "    <tr style=\"text-align: right;\">\n",
       "      <th></th>\n",
       "      <th>purchaseid</th>\n",
       "      <th>item_ID</th>\n",
       "      <th>Quantity</th>\n",
       "      <th>purchasedate</th>\n",
       "      <th>CustomerID</th>\n",
       "      <th>ShopID</th>\n",
       "      <th>loyalty_program</th>\n",
       "      <th>purchasedate_new</th>\n",
       "      <th>price_per_one</th>\n",
       "    </tr>\n",
       "  </thead>\n",
       "  <tbody>\n",
       "    <tr>\n",
       "      <td>0</td>\n",
       "      <td>538280</td>\n",
       "      <td>21873</td>\n",
       "      <td>11</td>\n",
       "      <td>2016-12-10 12:50:00</td>\n",
       "      <td>18427.0</td>\n",
       "      <td>Shop 0</td>\n",
       "      <td>0</td>\n",
       "      <td>2016-12-10 12:50:00</td>\n",
       "      <td>1.810000</td>\n",
       "    </tr>\n",
       "    <tr>\n",
       "      <td>1</td>\n",
       "      <td>538862</td>\n",
       "      <td>22195</td>\n",
       "      <td>0</td>\n",
       "      <td>2016-12-14 14:11:00</td>\n",
       "      <td>22389.0</td>\n",
       "      <td>Shop 0</td>\n",
       "      <td>1</td>\n",
       "      <td>2016-12-14 14:11:00</td>\n",
       "      <td>2.766667</td>\n",
       "    </tr>\n",
       "    <tr>\n",
       "      <td>2</td>\n",
       "      <td>538855</td>\n",
       "      <td>21239</td>\n",
       "      <td>7</td>\n",
       "      <td>2016-12-14 13:50:00</td>\n",
       "      <td>22182.0</td>\n",
       "      <td>Shop 0</td>\n",
       "      <td>1</td>\n",
       "      <td>2016-12-14 13:50:00</td>\n",
       "      <td>1.474000</td>\n",
       "    </tr>\n",
       "    <tr>\n",
       "      <td>3</td>\n",
       "      <td>543543</td>\n",
       "      <td>22271</td>\n",
       "      <td>0</td>\n",
       "      <td>2017-02-09 15:33:00</td>\n",
       "      <td>23522.0</td>\n",
       "      <td>Shop 0</td>\n",
       "      <td>1</td>\n",
       "      <td>2017-02-09 15:33:00</td>\n",
       "      <td>4.300000</td>\n",
       "    </tr>\n",
       "    <tr>\n",
       "      <td>4</td>\n",
       "      <td>543812</td>\n",
       "      <td>79321</td>\n",
       "      <td>0</td>\n",
       "      <td>2017-02-13 14:40:00</td>\n",
       "      <td>23151.0</td>\n",
       "      <td>Shop 0</td>\n",
       "      <td>1</td>\n",
       "      <td>2017-02-13 14:40:00</td>\n",
       "      <td>7.013636</td>\n",
       "    </tr>\n",
       "    <tr>\n",
       "      <td>...</td>\n",
       "      <td>...</td>\n",
       "      <td>...</td>\n",
       "      <td>...</td>\n",
       "      <td>...</td>\n",
       "      <td>...</td>\n",
       "      <td>...</td>\n",
       "      <td>...</td>\n",
       "      <td>...</td>\n",
       "      <td>...</td>\n",
       "    </tr>\n",
       "    <tr>\n",
       "      <td>104297</td>\n",
       "      <td>538566</td>\n",
       "      <td>21826</td>\n",
       "      <td>1</td>\n",
       "      <td>2016-12-13 11:21:00</td>\n",
       "      <td>NaN</td>\n",
       "      <td>Shop 0</td>\n",
       "      <td>0</td>\n",
       "      <td>2016-12-13 11:21:00</td>\n",
       "      <td>2.073333</td>\n",
       "    </tr>\n",
       "    <tr>\n",
       "      <td>104298</td>\n",
       "      <td>540247</td>\n",
       "      <td>21742</td>\n",
       "      <td>0</td>\n",
       "      <td>2017-01-05 15:56:00</td>\n",
       "      <td>21143.0</td>\n",
       "      <td>Shop 0</td>\n",
       "      <td>0</td>\n",
       "      <td>2017-01-05 15:56:00</td>\n",
       "      <td>9.335000</td>\n",
       "    </tr>\n",
       "    <tr>\n",
       "      <td>104299</td>\n",
       "      <td>538068</td>\n",
       "      <td>85048</td>\n",
       "      <td>1</td>\n",
       "      <td>2016-12-09 14:05:00</td>\n",
       "      <td>23657.0</td>\n",
       "      <td>Shop 0</td>\n",
       "      <td>1</td>\n",
       "      <td>2016-12-09 14:05:00</td>\n",
       "      <td>11.368000</td>\n",
       "    </tr>\n",
       "    <tr>\n",
       "      <td>104300</td>\n",
       "      <td>538207</td>\n",
       "      <td>22818</td>\n",
       "      <td>11</td>\n",
       "      <td>2016-12-10 11:33:00</td>\n",
       "      <td>18427.0</td>\n",
       "      <td>Shop 0</td>\n",
       "      <td>0</td>\n",
       "      <td>2016-12-10 11:33:00</td>\n",
       "      <td>0.700000</td>\n",
       "    </tr>\n",
       "    <tr>\n",
       "      <td>104301</td>\n",
       "      <td>543977</td>\n",
       "      <td>22384</td>\n",
       "      <td>9</td>\n",
       "      <td>2017-02-14 15:35:00</td>\n",
       "      <td>21294.0</td>\n",
       "      <td>Shop 0</td>\n",
       "      <td>0</td>\n",
       "      <td>2017-02-14 15:35:00</td>\n",
       "      <td>3.417143</td>\n",
       "    </tr>\n",
       "  </tbody>\n",
       "</table>\n",
       "<p>104302 rows × 9 columns</p>\n",
       "</div>"
      ],
      "text/plain": [
       "       purchaseid item_ID  Quantity         purchasedate  CustomerID  ShopID  \\\n",
       "0          538280   21873        11  2016-12-10 12:50:00     18427.0  Shop 0   \n",
       "1          538862   22195         0  2016-12-14 14:11:00     22389.0  Shop 0   \n",
       "2          538855   21239         7  2016-12-14 13:50:00     22182.0  Shop 0   \n",
       "3          543543   22271         0  2017-02-09 15:33:00     23522.0  Shop 0   \n",
       "4          543812   79321         0  2017-02-13 14:40:00     23151.0  Shop 0   \n",
       "...           ...     ...       ...                  ...         ...     ...   \n",
       "104297     538566   21826         1  2016-12-13 11:21:00         NaN  Shop 0   \n",
       "104298     540247   21742         0  2017-01-05 15:56:00     21143.0  Shop 0   \n",
       "104299     538068   85048         1  2016-12-09 14:05:00     23657.0  Shop 0   \n",
       "104300     538207   22818        11  2016-12-10 11:33:00     18427.0  Shop 0   \n",
       "104301     543977   22384         9  2017-02-14 15:35:00     21294.0  Shop 0   \n",
       "\n",
       "        loyalty_program    purchasedate_new  price_per_one  \n",
       "0                     0 2016-12-10 12:50:00       1.810000  \n",
       "1                     1 2016-12-14 14:11:00       2.766667  \n",
       "2                     1 2016-12-14 13:50:00       1.474000  \n",
       "3                     1 2017-02-09 15:33:00       4.300000  \n",
       "4                     1 2017-02-13 14:40:00       7.013636  \n",
       "...                 ...                 ...            ...  \n",
       "104297                0 2016-12-13 11:21:00       2.073333  \n",
       "104298                0 2017-01-05 15:56:00       9.335000  \n",
       "104299                1 2016-12-09 14:05:00      11.368000  \n",
       "104300                0 2016-12-10 11:33:00       0.700000  \n",
       "104301                0 2017-02-14 15:35:00       3.417143  \n",
       "\n",
       "[104302 rows x 9 columns]"
      ]
     },
     "execution_count": 396,
     "metadata": {},
     "output_type": "execute_result"
    }
   ],
   "source": [
    "df = retail_dataset.merge(new_product_codes, left_on='item_ID', right_on='productID', how='left', validate='m:1')\n",
    "df"
   ]
  },
  {
   "cell_type": "code",
   "execution_count": 397,
   "metadata": {},
   "outputs": [],
   "source": [
    "df = df.loc[df['Quantity'] != 0]"
   ]
  },
  {
   "cell_type": "code",
   "execution_count": 398,
   "metadata": {},
   "outputs": [
    {
     "name": "stderr",
     "output_type": "stream",
     "text": [
      "/opt/conda/lib/python3.7/site-packages/ipykernel_launcher.py:1: SettingWithCopyWarning: \n",
      "A value is trying to be set on a copy of a slice from a DataFrame.\n",
      "Try using .loc[row_indexer,col_indexer] = value instead\n",
      "\n",
      "See the caveats in the documentation: http://pandas.pydata.org/pandas-docs/stable/user_guide/indexing.html#returning-a-view-versus-a-copy\n",
      "  \"\"\"Entry point for launching an IPython kernel.\n",
      "/opt/conda/lib/python3.7/site-packages/ipykernel_launcher.py:2: SettingWithCopyWarning: \n",
      "A value is trying to be set on a copy of a slice from a DataFrame.\n",
      "Try using .loc[row_indexer,col_indexer] = value instead\n",
      "\n",
      "See the caveats in the documentation: http://pandas.pydata.org/pandas-docs/stable/user_guide/indexing.html#returning-a-view-versus-a-copy\n",
      "  \n",
      "/opt/conda/lib/python3.7/site-packages/ipykernel_launcher.py:3: SettingWithCopyWarning: \n",
      "A value is trying to be set on a copy of a slice from a DataFrame.\n",
      "Try using .loc[row_indexer,col_indexer] = value instead\n",
      "\n",
      "See the caveats in the documentation: http://pandas.pydata.org/pandas-docs/stable/user_guide/indexing.html#returning-a-view-versus-a-copy\n",
      "  This is separate from the ipykernel package so we can avoid doing imports until\n"
     ]
    }
   ],
   "source": [
    "df['month'] = df['purchasedate_new'].values.astype('datetime64[M]')\n",
    "df['day'] = df['purchasedate_new'].values.astype('datetime64[D]')\n",
    "df['price_per_all'] = df['Quantity']*df['price_per_one']"
   ]
  },
  {
   "cell_type": "code",
   "execution_count": 399,
   "metadata": {},
   "outputs": [
    {
     "data": {
      "text/plain": [
       "ShopID   loyalty_program\n",
       "Shop 0   0                  2987\n",
       "         1                  1324\n",
       "Shop 4   0                   113\n",
       "Shop 1   0                    89\n",
       "Shop 6   0                    46\n",
       "Shop 12  0                    21\n",
       "Shop 2   0                    19\n",
       "Shop 8   0                    18\n",
       "Shop 3   0                    15\n",
       "Shop 10  0                    15\n",
       "Shop 7   0                    11\n",
       "Shop 11  0                    10\n",
       "Shop 18  0                     7\n",
       "Shop 14  0                     5\n",
       "Shop 20  0                     4\n",
       "Shop 13  0                     4\n",
       "Shop 16  0                     4\n",
       "Shop 19  1                     4\n",
       "Shop 9   0                     4\n",
       "Shop 22  0                     4\n",
       "Shop 5   0                     4\n",
       "Shop 19  0                     3\n",
       "Shop 21  0                     3\n",
       "Shop 8   1                     2\n",
       "Shop 23  0                     2\n",
       "Shop 17  0                     2\n",
       "Shop 15  0                     2\n",
       "Shop 24  0                     1\n",
       "Shop 25  0                     1\n",
       "Shop 26  0                     1\n",
       "Shop 27  0                     1\n",
       "Shop 28  1                     1\n",
       "Shop 29  0                     1\n",
       "Shop 30  0                     1\n",
       "Name: purchaseid, dtype: int64"
      ]
     },
     "execution_count": 399,
     "metadata": {},
     "output_type": "execute_result"
    }
   ],
   "source": [
    "df.groupby(['ShopID', 'loyalty_program' ])['purchaseid'].nunique().sort_values(ascending = False)"
   ]
  },
  {
   "cell_type": "code",
   "execution_count": 1,
   "metadata": {},
   "outputs": [
    {
     "ename": "NameError",
     "evalue": "name 'df' is not defined",
     "output_type": "error",
     "traceback": [
      "\u001b[0;31m---------------------------------------------------------------------------\u001b[0m",
      "\u001b[0;31mNameError\u001b[0m                                 Traceback (most recent call last)",
      "\u001b[0;32m<ipython-input-1-9d1b25df1184>\u001b[0m in \u001b[0;36m<module>\u001b[0;34m\u001b[0m\n\u001b[0;32m----> 1\u001b[0;31m \u001b[0mx1\u001b[0m \u001b[0;34m=\u001b[0m \u001b[0mdf\u001b[0m\u001b[0;34m[\u001b[0m\u001b[0mdf\u001b[0m\u001b[0;34m[\u001b[0m\u001b[0;34m'loyalty_program'\u001b[0m\u001b[0;34m]\u001b[0m \u001b[0;34m==\u001b[0m \u001b[0;36m0\u001b[0m\u001b[0;34m]\u001b[0m\u001b[0;34m\u001b[0m\u001b[0;34m\u001b[0m\u001b[0m\n\u001b[0m\u001b[1;32m      2\u001b[0m \u001b[0mx1\u001b[0m \u001b[0;34m=\u001b[0m \u001b[0mx1\u001b[0m\u001b[0;34m.\u001b[0m\u001b[0mgroupby\u001b[0m\u001b[0;34m(\u001b[0m\u001b[0;34m'ShopID'\u001b[0m\u001b[0;34m)\u001b[0m\u001b[0;34m[\u001b[0m\u001b[0;34m'purchaseid'\u001b[0m\u001b[0;34m]\u001b[0m\u001b[0;34m.\u001b[0m\u001b[0mnunique\u001b[0m\u001b[0;34m(\u001b[0m\u001b[0;34m)\u001b[0m\u001b[0;34m.\u001b[0m\u001b[0mreset_index\u001b[0m\u001b[0;34m(\u001b[0m\u001b[0;34m)\u001b[0m\u001b[0;34m\u001b[0m\u001b[0;34m\u001b[0m\u001b[0m\n\u001b[1;32m      3\u001b[0m \u001b[0mx1\u001b[0m\u001b[0;34m.\u001b[0m\u001b[0mcolumns\u001b[0m \u001b[0;34m=\u001b[0m \u001b[0;34m[\u001b[0m\u001b[0;34m'ShopID'\u001b[0m\u001b[0;34m,\u001b[0m \u001b[0;34m'non_loyal_purchases'\u001b[0m\u001b[0;34m]\u001b[0m\u001b[0;34m\u001b[0m\u001b[0;34m\u001b[0m\u001b[0m\n\u001b[1;32m      4\u001b[0m \u001b[0;34m\u001b[0m\u001b[0m\n\u001b[1;32m      5\u001b[0m \u001b[0mx2\u001b[0m \u001b[0;34m=\u001b[0m \u001b[0mdf\u001b[0m\u001b[0;34m[\u001b[0m\u001b[0mdf\u001b[0m\u001b[0;34m[\u001b[0m\u001b[0;34m'loyalty_program'\u001b[0m\u001b[0;34m]\u001b[0m \u001b[0;34m==\u001b[0m \u001b[0;36m1\u001b[0m\u001b[0;34m]\u001b[0m\u001b[0;34m\u001b[0m\u001b[0;34m\u001b[0m\u001b[0m\n",
      "\u001b[0;31mNameError\u001b[0m: name 'df' is not defined"
     ]
    }
   ],
   "source": [
    "x1 = df[df['loyalty_program'] == 0]\n",
    "x1 = x1.groupby('ShopID')['purchaseid'].nunique().reset_index()\n",
    "x1.columns = ['ShopID', 'non_loyal_purchases']\n",
    "\n",
    "x2 = df[df['loyalty_program'] == 1]\n",
    "x2 = x2.groupby('ShopID')['purchaseid'].nunique().reset_index()\n",
    "x2.columns = ['ShopID', 'loyal_purchases']\n",
    "\n",
    "x3 = x1.merge(x2, on = 'ShopID', how = 'outer')\n",
    "x3.fillna(0, inplace=True)\n",
    "x3\n",
    "\n",
    "x3.set_index('ShopID').sort_index().plot.bar(stacked=True)\n"
   ]
  },
  {
   "cell_type": "markdown",
   "metadata": {},
   "source": [
    "<p style=\"font-family: verdana; color: orange\">Не очень читаемый график, потому что по оси X у тебя идут сразу две величины. Было бы понятнее, если там были только магазины, а чеки лояльных и нелояльных – в виде столбцов разного цвета, поставленных один на другой.</p>"
   ]
  },
  {
   "cell_type": "markdown",
   "metadata": {},
   "source": [
    "Заменим пользователей без CustomerID на 0"
   ]
  },
  {
   "cell_type": "code",
   "execution_count": 401,
   "metadata": {},
   "outputs": [
    {
     "name": "stderr",
     "output_type": "stream",
     "text": [
      "/opt/conda/lib/python3.7/site-packages/ipykernel_launcher.py:1: SettingWithCopyWarning: \n",
      "A value is trying to be set on a copy of a slice from a DataFrame.\n",
      "Try using .loc[row_indexer,col_indexer] = value instead\n",
      "\n",
      "See the caveats in the documentation: http://pandas.pydata.org/pandas-docs/stable/user_guide/indexing.html#returning-a-view-versus-a-copy\n",
      "  \"\"\"Entry point for launching an IPython kernel.\n"
     ]
    }
   ],
   "source": [
    "df['CustomerID'] = df['CustomerID'].fillna(value=0)"
   ]
  },
  {
   "cell_type": "code",
   "execution_count": 402,
   "metadata": {},
   "outputs": [
    {
     "data": {
      "text/html": [
       "<div>\n",
       "<style scoped>\n",
       "    .dataframe tbody tr th:only-of-type {\n",
       "        vertical-align: middle;\n",
       "    }\n",
       "\n",
       "    .dataframe tbody tr th {\n",
       "        vertical-align: top;\n",
       "    }\n",
       "\n",
       "    .dataframe thead th {\n",
       "        text-align: right;\n",
       "    }\n",
       "</style>\n",
       "<table border=\"1\" class=\"dataframe\">\n",
       "  <thead>\n",
       "    <tr style=\"text-align: right;\">\n",
       "      <th></th>\n",
       "      <th>ShopID</th>\n",
       "      <th>loyalty_program</th>\n",
       "      <th>purchaseid</th>\n",
       "      <th>CustomerID</th>\n",
       "      <th>month</th>\n",
       "      <th>price_per_all</th>\n",
       "      <th>Quantity</th>\n",
       "    </tr>\n",
       "  </thead>\n",
       "  <tbody>\n",
       "    <tr>\n",
       "      <td>0</td>\n",
       "      <td>Shop 0</td>\n",
       "      <td>0</td>\n",
       "      <td>536367</td>\n",
       "      <td>18726.0</td>\n",
       "      <td>2016-12-01</td>\n",
       "      <td>295.588750</td>\n",
       "      <td>71</td>\n",
       "    </tr>\n",
       "    <tr>\n",
       "      <td>1</td>\n",
       "      <td>Shop 0</td>\n",
       "      <td>0</td>\n",
       "      <td>536368</td>\n",
       "      <td>18726.0</td>\n",
       "      <td>2016-12-01</td>\n",
       "      <td>84.470000</td>\n",
       "      <td>11</td>\n",
       "    </tr>\n",
       "    <tr>\n",
       "      <td>2</td>\n",
       "      <td>Shop 0</td>\n",
       "      <td>0</td>\n",
       "      <td>536369</td>\n",
       "      <td>18726.0</td>\n",
       "      <td>2016-12-01</td>\n",
       "      <td>16.600000</td>\n",
       "      <td>2</td>\n",
       "    </tr>\n",
       "    <tr>\n",
       "      <td>3</td>\n",
       "      <td>Shop 0</td>\n",
       "      <td>0</td>\n",
       "      <td>536371</td>\n",
       "      <td>19427.0</td>\n",
       "      <td>2016-12-01</td>\n",
       "      <td>402.900000</td>\n",
       "      <td>79</td>\n",
       "    </tr>\n",
       "    <tr>\n",
       "      <td>4</td>\n",
       "      <td>Shop 0</td>\n",
       "      <td>0</td>\n",
       "      <td>536374</td>\n",
       "      <td>20779.0</td>\n",
       "      <td>2016-12-01</td>\n",
       "      <td>381.222500</td>\n",
       "      <td>31</td>\n",
       "    </tr>\n",
       "    <tr>\n",
       "      <td>...</td>\n",
       "      <td>...</td>\n",
       "      <td>...</td>\n",
       "      <td>...</td>\n",
       "      <td>...</td>\n",
       "      <td>...</td>\n",
       "      <td>...</td>\n",
       "      <td>...</td>\n",
       "    </tr>\n",
       "    <tr>\n",
       "      <td>4724</td>\n",
       "      <td>Shop 8</td>\n",
       "      <td>1</td>\n",
       "      <td>541576</td>\n",
       "      <td>22776.0</td>\n",
       "      <td>2017-01-01</td>\n",
       "      <td>145.204333</td>\n",
       "      <td>25</td>\n",
       "    </tr>\n",
       "    <tr>\n",
       "      <td>4725</td>\n",
       "      <td>Shop 9</td>\n",
       "      <td>0</td>\n",
       "      <td>536971</td>\n",
       "      <td>18458.0</td>\n",
       "      <td>2016-12-01</td>\n",
       "      <td>456.877500</td>\n",
       "      <td>132</td>\n",
       "    </tr>\n",
       "    <tr>\n",
       "      <td>4726</td>\n",
       "      <td>Shop 9</td>\n",
       "      <td>0</td>\n",
       "      <td>541267</td>\n",
       "      <td>18458.0</td>\n",
       "      <td>2017-01-01</td>\n",
       "      <td>1130.346750</td>\n",
       "      <td>263</td>\n",
       "    </tr>\n",
       "    <tr>\n",
       "      <td>4727</td>\n",
       "      <td>Shop 9</td>\n",
       "      <td>0</td>\n",
       "      <td>543214</td>\n",
       "      <td>18458.0</td>\n",
       "      <td>2017-02-01</td>\n",
       "      <td>487.220071</td>\n",
       "      <td>89</td>\n",
       "    </tr>\n",
       "    <tr>\n",
       "      <td>4728</td>\n",
       "      <td>Shop 9</td>\n",
       "      <td>0</td>\n",
       "      <td>543411</td>\n",
       "      <td>18255.0</td>\n",
       "      <td>2017-02-01</td>\n",
       "      <td>346.786131</td>\n",
       "      <td>180</td>\n",
       "    </tr>\n",
       "  </tbody>\n",
       "</table>\n",
       "<p>4729 rows × 7 columns</p>\n",
       "</div>"
      ],
      "text/plain": [
       "      ShopID  loyalty_program purchaseid  CustomerID      month  \\\n",
       "0     Shop 0                0     536367     18726.0 2016-12-01   \n",
       "1     Shop 0                0     536368     18726.0 2016-12-01   \n",
       "2     Shop 0                0     536369     18726.0 2016-12-01   \n",
       "3     Shop 0                0     536371     19427.0 2016-12-01   \n",
       "4     Shop 0                0     536374     20779.0 2016-12-01   \n",
       "...      ...              ...        ...         ...        ...   \n",
       "4724  Shop 8                1     541576     22776.0 2017-01-01   \n",
       "4725  Shop 9                0     536971     18458.0 2016-12-01   \n",
       "4726  Shop 9                0     541267     18458.0 2017-01-01   \n",
       "4727  Shop 9                0     543214     18458.0 2017-02-01   \n",
       "4728  Shop 9                0     543411     18255.0 2017-02-01   \n",
       "\n",
       "      price_per_all  Quantity  \n",
       "0        295.588750        71  \n",
       "1         84.470000        11  \n",
       "2         16.600000         2  \n",
       "3        402.900000        79  \n",
       "4        381.222500        31  \n",
       "...             ...       ...  \n",
       "4724     145.204333        25  \n",
       "4725     456.877500       132  \n",
       "4726    1130.346750       263  \n",
       "4727     487.220071        89  \n",
       "4728     346.786131       180  \n",
       "\n",
       "[4729 rows x 7 columns]"
      ]
     },
     "execution_count": 402,
     "metadata": {},
     "output_type": "execute_result"
    }
   ],
   "source": [
    "data = df.groupby(['ShopID', 'loyalty_program','purchaseid','CustomerID', 'month']).agg({'price_per_all': 'sum', 'Quantity': 'sum'}).reset_index()\n",
    "data"
   ]
  },
  {
   "cell_type": "code",
   "execution_count": 403,
   "metadata": {},
   "outputs": [
    {
     "data": {
      "text/plain": [
       "ShopID   loyalty_program\n",
       "Shop 3   0                  6931.733496\n",
       "Shop 14  0                  4559.322584\n",
       "Shop 24  0                  3917.850417\n",
       "Shop 25  0                  3150.084238\n",
       "Shop 26  0                  2768.059155\n",
       "Shop 19  1                  2203.794095\n",
       "Shop 2   0                  2126.806811\n",
       "Shop 27  0                  2114.421024\n",
       "Shop 5   0                  1534.229244\n",
       "Shop 28  1                  1466.012385\n",
       "Shop 6   0                  1229.039682\n",
       "Shop 17  0                  1116.094714\n",
       "Shop 7   0                  1010.495824\n",
       "Shop 16  0                   935.180045\n",
       "Shop 18  0                   891.783759\n",
       "Shop 8   0                   885.192148\n",
       "Shop 15  0                   859.181012\n",
       "Shop 30  0                   742.511667\n",
       "Shop 22  0                   726.740357\n",
       "Shop 10  0                   655.094763\n",
       "Shop 13  0                   610.849917\n",
       "Shop 9   0                   605.307613\n",
       "Shop 1   0                   534.829826\n",
       "Shop 0   1                   461.899199\n",
       "Shop 4   0                   454.783386\n",
       "Shop 19  0                   438.919272\n",
       "Shop 21  0                   418.931992\n",
       "Shop 11  0                   351.274555\n",
       "Shop 12  0                   322.641336\n",
       "Shop 0   0                   322.035745\n",
       "Shop 20  0                   227.541185\n",
       "Shop 29  0                   202.284833\n",
       "Shop 8   1                   119.807000\n",
       "Shop 23  0                    -5.510000\n",
       "Name: price_per_all, dtype: float64"
      ]
     },
     "execution_count": 403,
     "metadata": {},
     "output_type": "execute_result"
    }
   ],
   "source": [
    "data.groupby(['ShopID', 'loyalty_program' ])['price_per_all'].mean().sort_values( ascending = False)"
   ]
  },
  {
   "cell_type": "code",
   "execution_count": 404,
   "metadata": {},
   "outputs": [
    {
     "data": {
      "text/plain": [
       "<matplotlib.axes._subplots.AxesSubplot at 0x7f8534f5fc90>"
      ]
     },
     "execution_count": 404,
     "metadata": {},
     "output_type": "execute_result"
    },
    {
     "data": {
      "image/png": "[encoded data removed]",
      "text/plain": [
       "<Figure size 432x288 with 1 Axes>"
      ]
     },
     "metadata": {
      "needs_background": "light"
     },
     "output_type": "display_data"
    }
   ],
   "source": [
    "x4 = df[df['loyalty_program'] == 0]\n",
    "x4 = x4.groupby('ShopID')['price_per_all'].mean().reset_index()\n",
    "x4.columns = ['ShopID', 'non_loyal_purchases']\n",
    "\n",
    "x5 = df[df['loyalty_program'] == 1]\n",
    "x5 = x5.groupby('ShopID')['price_per_all'].mean().reset_index()\n",
    "x5.columns = ['ShopID', 'loyal_purchases']\n",
    "\n",
    "x6 = x4.merge(x5, on = 'ShopID', how = 'outer')\n",
    "x6.fillna(0, inplace=True)\n",
    "x6\n",
    "\n",
    "x6.set_index('ShopID').sort_index().plot.bar(stacked=True)"
   ]
  },
  {
   "cell_type": "markdown",
   "metadata": {},
   "source": [
    "<p style=\"font-family: verdana; color: orange\">Здесь то же самое</p>"
   ]
  },
  {
   "cell_type": "markdown",
   "metadata": {},
   "source": [
    "<div style=\" padding: 20px\"> <h1 style=\" margin-bottom:20px\">Шаг 3. Исследовательский анализ данных</h1> <a id=\"step3\"></a>   \n",
    "</div>  "
   ]
  },
  {
   "cell_type": "code",
   "execution_count": 405,
   "metadata": {},
   "outputs": [
    {
     "data": {
      "text/html": [
       "<div>\n",
       "<style scoped>\n",
       "    .dataframe tbody tr th:only-of-type {\n",
       "        vertical-align: middle;\n",
       "    }\n",
       "\n",
       "    .dataframe tbody tr th {\n",
       "        vertical-align: top;\n",
       "    }\n",
       "\n",
       "    .dataframe thead th {\n",
       "        text-align: right;\n",
       "    }\n",
       "</style>\n",
       "<table border=\"1\" class=\"dataframe\">\n",
       "  <thead>\n",
       "    <tr style=\"text-align: right;\">\n",
       "      <th></th>\n",
       "      <th>CustomerID</th>\n",
       "      <th>cost_cart_loyal</th>\n",
       "    </tr>\n",
       "  </thead>\n",
       "  <tbody>\n",
       "    <tr>\n",
       "      <td>0</td>\n",
       "      <td>0.0</td>\n",
       "      <td>600</td>\n",
       "    </tr>\n",
       "    <tr>\n",
       "      <td>1</td>\n",
       "      <td>18025.0</td>\n",
       "      <td>200</td>\n",
       "    </tr>\n",
       "    <tr>\n",
       "      <td>2</td>\n",
       "      <td>18026.0</td>\n",
       "      <td>400</td>\n",
       "    </tr>\n",
       "    <tr>\n",
       "      <td>3</td>\n",
       "      <td>18027.0</td>\n",
       "      <td>400</td>\n",
       "    </tr>\n",
       "    <tr>\n",
       "      <td>4</td>\n",
       "      <td>18029.0</td>\n",
       "      <td>200</td>\n",
       "    </tr>\n",
       "    <tr>\n",
       "      <td>...</td>\n",
       "      <td>...</td>\n",
       "      <td>...</td>\n",
       "    </tr>\n",
       "    <tr>\n",
       "      <td>1736</td>\n",
       "      <td>23938.0</td>\n",
       "      <td>200</td>\n",
       "    </tr>\n",
       "    <tr>\n",
       "      <td>1737</td>\n",
       "      <td>23939.0</td>\n",
       "      <td>400</td>\n",
       "    </tr>\n",
       "    <tr>\n",
       "      <td>1738</td>\n",
       "      <td>23948.0</td>\n",
       "      <td>200</td>\n",
       "    </tr>\n",
       "    <tr>\n",
       "      <td>1739</td>\n",
       "      <td>23956.0</td>\n",
       "      <td>200</td>\n",
       "    </tr>\n",
       "    <tr>\n",
       "      <td>1740</td>\n",
       "      <td>23962.0</td>\n",
       "      <td>400</td>\n",
       "    </tr>\n",
       "  </tbody>\n",
       "</table>\n",
       "<p>1741 rows × 2 columns</p>\n",
       "</div>"
      ],
      "text/plain": [
       "      CustomerID  cost_cart_loyal\n",
       "0            0.0              600\n",
       "1        18025.0              200\n",
       "2        18026.0              400\n",
       "3        18027.0              400\n",
       "4        18029.0              200\n",
       "...          ...              ...\n",
       "1736     23938.0              200\n",
       "1737     23939.0              400\n",
       "1738     23948.0              200\n",
       "1739     23956.0              200\n",
       "1740     23962.0              400\n",
       "\n",
       "[1741 rows x 2 columns]"
      ]
     },
     "execution_count": 405,
     "metadata": {},
     "output_type": "execute_result"
    }
   ],
   "source": [
    "count_month = data.groupby(['CustomerID'])['month'].nunique().reset_index()\n",
    "count_month.rename(columns={'month': 'cost_cart_loyal'}, inplace=True)\n",
    "count_month['cost_cart_loyal'] = count_month['cost_cart_loyal']*200\n",
    "count_month"
   ]
  },
  {
   "cell_type": "code",
   "execution_count": 406,
   "metadata": {},
   "outputs": [
    {
     "data": {
      "text/html": [
       "<div>\n",
       "<style scoped>\n",
       "    .dataframe tbody tr th:only-of-type {\n",
       "        vertical-align: middle;\n",
       "    }\n",
       "\n",
       "    .dataframe tbody tr th {\n",
       "        vertical-align: top;\n",
       "    }\n",
       "\n",
       "    .dataframe thead th {\n",
       "        text-align: right;\n",
       "    }\n",
       "</style>\n",
       "<table border=\"1\" class=\"dataframe\">\n",
       "  <thead>\n",
       "    <tr style=\"text-align: right;\">\n",
       "      <th></th>\n",
       "      <th>ShopID</th>\n",
       "      <th>loyalty_program</th>\n",
       "      <th>purchaseid</th>\n",
       "      <th>CustomerID</th>\n",
       "      <th>month</th>\n",
       "      <th>price_per_all</th>\n",
       "      <th>Quantity</th>\n",
       "      <th>cost_cart_loyal</th>\n",
       "    </tr>\n",
       "  </thead>\n",
       "  <tbody>\n",
       "    <tr>\n",
       "      <td>0</td>\n",
       "      <td>Shop 0</td>\n",
       "      <td>0</td>\n",
       "      <td>536367</td>\n",
       "      <td>18726.0</td>\n",
       "      <td>2016-12-01</td>\n",
       "      <td>295.588750</td>\n",
       "      <td>71</td>\n",
       "      <td>600</td>\n",
       "    </tr>\n",
       "    <tr>\n",
       "      <td>1</td>\n",
       "      <td>Shop 0</td>\n",
       "      <td>0</td>\n",
       "      <td>536368</td>\n",
       "      <td>18726.0</td>\n",
       "      <td>2016-12-01</td>\n",
       "      <td>84.470000</td>\n",
       "      <td>11</td>\n",
       "      <td>600</td>\n",
       "    </tr>\n",
       "    <tr>\n",
       "      <td>2</td>\n",
       "      <td>Shop 0</td>\n",
       "      <td>0</td>\n",
       "      <td>536369</td>\n",
       "      <td>18726.0</td>\n",
       "      <td>2016-12-01</td>\n",
       "      <td>16.600000</td>\n",
       "      <td>2</td>\n",
       "      <td>600</td>\n",
       "    </tr>\n",
       "    <tr>\n",
       "      <td>3</td>\n",
       "      <td>Shop 0</td>\n",
       "      <td>0</td>\n",
       "      <td>536371</td>\n",
       "      <td>19427.0</td>\n",
       "      <td>2016-12-01</td>\n",
       "      <td>402.900000</td>\n",
       "      <td>79</td>\n",
       "      <td>200</td>\n",
       "    </tr>\n",
       "    <tr>\n",
       "      <td>4</td>\n",
       "      <td>Shop 0</td>\n",
       "      <td>0</td>\n",
       "      <td>536374</td>\n",
       "      <td>20779.0</td>\n",
       "      <td>2016-12-01</td>\n",
       "      <td>381.222500</td>\n",
       "      <td>31</td>\n",
       "      <td>400</td>\n",
       "    </tr>\n",
       "    <tr>\n",
       "      <td>...</td>\n",
       "      <td>...</td>\n",
       "      <td>...</td>\n",
       "      <td>...</td>\n",
       "      <td>...</td>\n",
       "      <td>...</td>\n",
       "      <td>...</td>\n",
       "      <td>...</td>\n",
       "      <td>...</td>\n",
       "    </tr>\n",
       "    <tr>\n",
       "      <td>4724</td>\n",
       "      <td>Shop 8</td>\n",
       "      <td>1</td>\n",
       "      <td>541576</td>\n",
       "      <td>22776.0</td>\n",
       "      <td>2017-01-01</td>\n",
       "      <td>145.204333</td>\n",
       "      <td>25</td>\n",
       "      <td>400</td>\n",
       "    </tr>\n",
       "    <tr>\n",
       "      <td>4725</td>\n",
       "      <td>Shop 9</td>\n",
       "      <td>0</td>\n",
       "      <td>536971</td>\n",
       "      <td>18458.0</td>\n",
       "      <td>2016-12-01</td>\n",
       "      <td>456.877500</td>\n",
       "      <td>132</td>\n",
       "      <td>600</td>\n",
       "    </tr>\n",
       "    <tr>\n",
       "      <td>4726</td>\n",
       "      <td>Shop 9</td>\n",
       "      <td>0</td>\n",
       "      <td>541267</td>\n",
       "      <td>18458.0</td>\n",
       "      <td>2017-01-01</td>\n",
       "      <td>1130.346750</td>\n",
       "      <td>263</td>\n",
       "      <td>600</td>\n",
       "    </tr>\n",
       "    <tr>\n",
       "      <td>4727</td>\n",
       "      <td>Shop 9</td>\n",
       "      <td>0</td>\n",
       "      <td>543214</td>\n",
       "      <td>18458.0</td>\n",
       "      <td>2017-02-01</td>\n",
       "      <td>487.220071</td>\n",
       "      <td>89</td>\n",
       "      <td>600</td>\n",
       "    </tr>\n",
       "    <tr>\n",
       "      <td>4728</td>\n",
       "      <td>Shop 9</td>\n",
       "      <td>0</td>\n",
       "      <td>543411</td>\n",
       "      <td>18255.0</td>\n",
       "      <td>2017-02-01</td>\n",
       "      <td>346.786131</td>\n",
       "      <td>180</td>\n",
       "      <td>200</td>\n",
       "    </tr>\n",
       "  </tbody>\n",
       "</table>\n",
       "<p>4729 rows × 8 columns</p>\n",
       "</div>"
      ],
      "text/plain": [
       "      ShopID  loyalty_program purchaseid  CustomerID      month  \\\n",
       "0     Shop 0                0     536367     18726.0 2016-12-01   \n",
       "1     Shop 0                0     536368     18726.0 2016-12-01   \n",
       "2     Shop 0                0     536369     18726.0 2016-12-01   \n",
       "3     Shop 0                0     536371     19427.0 2016-12-01   \n",
       "4     Shop 0                0     536374     20779.0 2016-12-01   \n",
       "...      ...              ...        ...         ...        ...   \n",
       "4724  Shop 8                1     541576     22776.0 2017-01-01   \n",
       "4725  Shop 9                0     536971     18458.0 2016-12-01   \n",
       "4726  Shop 9                0     541267     18458.0 2017-01-01   \n",
       "4727  Shop 9                0     543214     18458.0 2017-02-01   \n",
       "4728  Shop 9                0     543411     18255.0 2017-02-01   \n",
       "\n",
       "      price_per_all  Quantity  cost_cart_loyal  \n",
       "0        295.588750        71              600  \n",
       "1         84.470000        11              600  \n",
       "2         16.600000         2              600  \n",
       "3        402.900000        79              200  \n",
       "4        381.222500        31              400  \n",
       "...             ...       ...              ...  \n",
       "4724     145.204333        25              400  \n",
       "4725     456.877500       132              600  \n",
       "4726    1130.346750       263              600  \n",
       "4727     487.220071        89              600  \n",
       "4728     346.786131       180              200  \n",
       "\n",
       "[4729 rows x 8 columns]"
      ]
     },
     "execution_count": 406,
     "metadata": {},
     "output_type": "execute_result"
    }
   ],
   "source": [
    "data = data.merge(count_month, left_on='CustomerID', right_on='CustomerID', how='left', validate='m:1')\n",
    "data"
   ]
  },
  {
   "cell_type": "markdown",
   "metadata": {},
   "source": [
    "#### Возьмем только shop 0"
   ]
  },
  {
   "cell_type": "code",
   "execution_count": 407,
   "metadata": {},
   "outputs": [],
   "source": [
    "shop0 = data.query('ShopID == \"Shop 0\"')"
   ]
  },
  {
   "cell_type": "code",
   "execution_count": 408,
   "metadata": {},
   "outputs": [
    {
     "data": {
      "text/html": [
       "<div>\n",
       "<style scoped>\n",
       "    .dataframe tbody tr th:only-of-type {\n",
       "        vertical-align: middle;\n",
       "    }\n",
       "\n",
       "    .dataframe tbody tr th {\n",
       "        vertical-align: top;\n",
       "    }\n",
       "\n",
       "    .dataframe thead th {\n",
       "        text-align: right;\n",
       "    }\n",
       "</style>\n",
       "<table border=\"1\" class=\"dataframe\">\n",
       "  <thead>\n",
       "    <tr style=\"text-align: right;\">\n",
       "      <th></th>\n",
       "      <th>loyalty_program</th>\n",
       "      <th>CustomerID</th>\n",
       "      <th>price_per_all</th>\n",
       "      <th>Quantity</th>\n",
       "      <th>cost_cart_loyal</th>\n",
       "    </tr>\n",
       "  </thead>\n",
       "  <tbody>\n",
       "    <tr>\n",
       "      <td>count</td>\n",
       "      <td>4311.000000</td>\n",
       "      <td>4311.000000</td>\n",
       "      <td>4311.000000</td>\n",
       "      <td>4311.000000</td>\n",
       "      <td>4311.000000</td>\n",
       "    </tr>\n",
       "    <tr>\n",
       "      <td>mean</td>\n",
       "      <td>0.307121</td>\n",
       "      <td>18110.800974</td>\n",
       "      <td>364.990793</td>\n",
       "      <td>153.613547</td>\n",
       "      <td>426.212016</td>\n",
       "    </tr>\n",
       "    <tr>\n",
       "      <td>std</td>\n",
       "      <td>0.461354</td>\n",
       "      <td>7623.862765</td>\n",
       "      <td>2415.385940</td>\n",
       "      <td>1647.696035</td>\n",
       "      <td>171.494077</td>\n",
       "    </tr>\n",
       "    <tr>\n",
       "      <td>min</td>\n",
       "      <td>0.000000</td>\n",
       "      <td>0.000000</td>\n",
       "      <td>-77184.640000</td>\n",
       "      <td>-74216.000000</td>\n",
       "      <td>200.000000</td>\n",
       "    </tr>\n",
       "    <tr>\n",
       "      <td>25%</td>\n",
       "      <td>0.000000</td>\n",
       "      <td>19008.000000</td>\n",
       "      <td>14.648750</td>\n",
       "      <td>4.000000</td>\n",
       "      <td>200.000000</td>\n",
       "    </tr>\n",
       "    <tr>\n",
       "      <td>50%</td>\n",
       "      <td>0.000000</td>\n",
       "      <td>20718.000000</td>\n",
       "      <td>207.073421</td>\n",
       "      <td>69.000000</td>\n",
       "      <td>400.000000</td>\n",
       "    </tr>\n",
       "    <tr>\n",
       "      <td>75%</td>\n",
       "      <td>1.000000</td>\n",
       "      <td>22405.000000</td>\n",
       "      <td>487.686940</td>\n",
       "      <td>176.000000</td>\n",
       "      <td>600.000000</td>\n",
       "    </tr>\n",
       "    <tr>\n",
       "      <td>max</td>\n",
       "      <td>1.000000</td>\n",
       "      <td>23962.000000</td>\n",
       "      <td>77182.560000</td>\n",
       "      <td>74214.000000</td>\n",
       "      <td>600.000000</td>\n",
       "    </tr>\n",
       "  </tbody>\n",
       "</table>\n",
       "</div>"
      ],
      "text/plain": [
       "       loyalty_program    CustomerID  price_per_all      Quantity  \\\n",
       "count      4311.000000   4311.000000    4311.000000   4311.000000   \n",
       "mean          0.307121  18110.800974     364.990793    153.613547   \n",
       "std           0.461354   7623.862765    2415.385940   1647.696035   \n",
       "min           0.000000      0.000000  -77184.640000 -74216.000000   \n",
       "25%           0.000000  19008.000000      14.648750      4.000000   \n",
       "50%           0.000000  20718.000000     207.073421     69.000000   \n",
       "75%           1.000000  22405.000000     487.686940    176.000000   \n",
       "max           1.000000  23962.000000   77182.560000  74214.000000   \n",
       "\n",
       "       cost_cart_loyal  \n",
       "count      4311.000000  \n",
       "mean        426.212016  \n",
       "std         171.494077  \n",
       "min         200.000000  \n",
       "25%         200.000000  \n",
       "50%         400.000000  \n",
       "75%         600.000000  \n",
       "max         600.000000  "
      ]
     },
     "execution_count": 408,
     "metadata": {},
     "output_type": "execute_result"
    }
   ],
   "source": [
    "shop0.describe()"
   ]
  },
  {
   "cell_type": "code",
   "execution_count": 409,
   "metadata": {},
   "outputs": [
    {
     "data": {
      "text/plain": [
       "loyalty_program      0.00000\n",
       "CustomerID           0.00000\n",
       "price_per_all     -735.56925\n",
       "Quantity          -145.00000\n",
       "cost_cart_loyal    200.00000\n",
       "Name: 0.01, dtype: float64"
      ]
     },
     "execution_count": 409,
     "metadata": {},
     "output_type": "execute_result"
    }
   ],
   "source": [
    "shop0.quantile(q=0.01)"
   ]
  },
  {
   "cell_type": "code",
   "execution_count": 410,
   "metadata": {},
   "outputs": [
    {
     "data": {
      "text/plain": [
       "loyalty_program        1.000000\n",
       "CustomerID         23901.600000\n",
       "price_per_all       4209.498314\n",
       "Quantity            1696.200000\n",
       "cost_cart_loyal      600.000000\n",
       "Name: 0.99, dtype: float64"
      ]
     },
     "execution_count": 410,
     "metadata": {},
     "output_type": "execute_result"
    }
   ],
   "source": [
    "shop0.quantile(q=0.99)"
   ]
  },
  {
   "cell_type": "code",
   "execution_count": 411,
   "metadata": {},
   "outputs": [
    {
     "data": {
      "text/plain": [
       "<matplotlib.axes._subplots.AxesSubplot at 0x7f8534e132d0>"
      ]
     },
     "execution_count": 411,
     "metadata": {},
     "output_type": "execute_result"
    },
    {
     "data": {
      "image/png": "[encoded data removed]",
      "text/plain": [
       "<Figure size 432x288 with 1 Axes>"
      ]
     },
     "metadata": {
      "needs_background": "light"
     },
     "output_type": "display_data"
    }
   ],
   "source": [
    "sns.boxplot(x=\"loyalty_program\", y=\"price_per_all\", data=shop0.query('price_per_all < 4000.0 and price_per_all > -735.0'), palette='rainbow')"
   ]
  },
  {
   "cell_type": "markdown",
   "metadata": {},
   "source": [
    "Распределение чека с лояльностью и без похожее. Много выбросов.25% и 75% квантили находятся рядом 0 500 соответствено. Если выкинуть выбросы - распределение похоже. "
   ]
  },
  {
   "cell_type": "code",
   "execution_count": 455,
   "metadata": {},
   "outputs": [],
   "source": [
    "shop0 = shop0.query('price_per_all < 2000 and price_per_all > -735.0 and Quantity < 800 and Quantity> -100 ')"
   ]
  },
  {
   "cell_type": "code",
   "execution_count": 456,
   "metadata": {},
   "outputs": [
    {
     "data": {
      "text/plain": [
       "<matplotlib.axes._subplots.AxesSubplot at 0x7f8534713950>"
      ]
     },
     "execution_count": 456,
     "metadata": {},
     "output_type": "execute_result"
    },
    {
     "data": {
      "image/png": "[encoded data removed]",
      "text/plain": [
       "<Figure size 432x288 with 1 Axes>"
      ]
     },
     "metadata": {
      "needs_background": "light"
     },
     "output_type": "display_data"
    }
   ],
   "source": [
    "shop0['price_per_all'].sort_values().reset_index(drop=True).plot()"
   ]
  },
  {
   "cell_type": "markdown",
   "metadata": {},
   "source": [
    "<p style=\"font-family: verdana; color: orange\">Поясни, пожалуйста, как ты читаешь эти графики. Что на них видишь, какие выводы можешь по ним сделать. Потому что для меня это не очень очевидно.</p>"
   ]
  },
  {
   "cell_type": "markdown",
   "metadata": {},
   "source": [
    "<div style=\" padding: 20px\"> <h1 style=\" margin-bottom:20px\"> СРЕДНЕЙ ЧЕК</h1> <a id=\"step4\"></a>   \n",
    "</div>  "
   ]
  },
  {
   "cell_type": "code",
   "execution_count": 457,
   "metadata": {},
   "outputs": [
    {
     "data": {
      "text/plain": [
       "<matplotlib.axes._subplots.AxesSubplot at 0x7f8534690610>"
      ]
     },
     "execution_count": 457,
     "metadata": {},
     "output_type": "execute_result"
    },
    {
     "data": {
      "image/png": "[encoded data removed]",
      "text/plain": [
       "<Figure size 432x288 with 1 Axes>"
      ]
     },
     "metadata": {
      "needs_background": "light"
     },
     "output_type": "display_data"
    }
   ],
   "source": [
    "sns.violinplot(x=\"loyalty_program\", y=\"price_per_all\", data=shop0, palette='rainbow')"
   ]
  },
  {
   "cell_type": "code",
   "execution_count": 458,
   "metadata": {},
   "outputs": [
    {
     "data": {
      "text/plain": [
       "loyalty_program\n",
       "0    285.470234\n",
       "1    301.825340\n",
       "Name: price_per_all, dtype: float64"
      ]
     },
     "execution_count": 458,
     "metadata": {},
     "output_type": "execute_result"
    }
   ],
   "source": [
    "shop0.groupby(['loyalty_program'])['price_per_all'].mean()"
   ]
  },
  {
   "cell_type": "code",
   "execution_count": 459,
   "metadata": {},
   "outputs": [],
   "source": [
    "shop0_1 = shop0.query('loyalty_program==1 ')\n",
    "shop0_0 = shop0.query('loyalty_program==0 ')"
   ]
  },
  {
   "cell_type": "markdown",
   "metadata": {},
   "source": [
    "Неавторизованные пользователи"
   ]
  },
  {
   "cell_type": "code",
   "execution_count": 460,
   "metadata": {},
   "outputs": [
    {
     "data": {
      "text/plain": [
       "121.95258393815426"
      ]
     },
     "execution_count": 460,
     "metadata": {},
     "output_type": "execute_result"
    }
   ],
   "source": [
    "shop0_0.query('CustomerID==0')['price_per_all'].mean()"
   ]
  },
  {
   "cell_type": "markdown",
   "metadata": {},
   "source": [
    "Авторизованные пользователи"
   ]
  },
  {
   "cell_type": "code",
   "execution_count": 461,
   "metadata": {},
   "outputs": [
    {
     "data": {
      "text/plain": [
       "324.6058014363788"
      ]
     },
     "execution_count": 461,
     "metadata": {},
     "output_type": "execute_result"
    }
   ],
   "source": [
    "shop0_0.query('CustomerID!=0')['price_per_all'].mean()"
   ]
  },
  {
   "cell_type": "code",
   "execution_count": 462,
   "metadata": {},
   "outputs": [
    {
     "data": {
      "text/plain": [
       "1.4493006993006994"
      ]
     },
     "execution_count": 462,
     "metadata": {},
     "output_type": "execute_result"
    }
   ],
   "source": [
    "shop0.query('loyalty_program==1').groupby('CustomerID')['month'].nunique().mean()"
   ]
  },
  {
   "cell_type": "markdown",
   "metadata": {},
   "source": [
    "пересчитаем с ограничением по quantity"
   ]
  },
  {
   "cell_type": "code",
   "execution_count": 463,
   "metadata": {},
   "outputs": [
    {
     "data": {
      "text/plain": [
       "loyalty_program\n",
       "0    285.470234\n",
       "1    301.825340\n",
       "Name: price_per_all, dtype: float64"
      ]
     },
     "execution_count": 463,
     "metadata": {},
     "output_type": "execute_result"
    }
   ],
   "source": [
    "shop0.query('Quantity < 800 and Quantity> -100 ').groupby(['loyalty_program'])['price_per_all'].mean()"
   ]
  },
  {
   "cell_type": "code",
   "execution_count": 464,
   "metadata": {},
   "outputs": [
    {
     "data": {
      "text/plain": [
       "324.6058014363788"
      ]
     },
     "execution_count": 464,
     "metadata": {},
     "output_type": "execute_result"
    }
   ],
   "source": [
    "shop0.query('Quantity < 800 and Quantity> -100 and CustomerID!=0 and loyalty_program==0')['price_per_all'].mean()"
   ]
  },
  {
   "cell_type": "code",
   "execution_count": 465,
   "metadata": {},
   "outputs": [
    {
     "data": {
      "text/plain": [
       "121.95258393815426"
      ]
     },
     "execution_count": 465,
     "metadata": {},
     "output_type": "execute_result"
    }
   ],
   "source": [
    "shop0.query('Quantity < 800 and Quantity> -100 and CustomerID==0 and loyalty_program==0')['price_per_all'].mean()"
   ]
  },
  {
   "cell_type": "code",
   "execution_count": 466,
   "metadata": {},
   "outputs": [
    {
     "name": "stdout",
     "output_type": "stream",
     "text": [
      "p-значение: 0.18860368016514414\n",
      "Не получилось отвергнуть нулевую гипотезу\n"
     ]
    }
   ],
   "source": [
    "from scipy import stats as st\n",
    "alpha = .05\n",
    "# задаем критический уровень статистической значимости\n",
    "\n",
    "loyalnost = shop0_1['price_per_all']\n",
    "other = shop0_0['price_per_all']\n",
    "results = st.ttest_ind(loyalnost, other)\n",
    "#  проверяем гипотезу о равенстве средних двух независимых совокупностей\n",
    "\n",
    "print('p-значение:',results.pvalue)\n",
    "\n",
    "if (results.pvalue < alpha):\n",
    "    print(\"Отвергаем нулевую гипотезу\")\n",
    "else:\n",
    "    print(\"Не получилось отвергнуть нулевую гипотезу\")\n",
    "   "
   ]
  },
  {
   "cell_type": "markdown",
   "metadata": {},
   "source": [
    "<div style=\" padding: 20px\"> <h1 style=\" margin-bottom:20px\"> СРЕДНИЕ КОЛИЧЕСТВО ТОВАРОВ В ЧЕКЕ</h1> <a id=\"step5\"></a>   \n",
    "</div>  "
   ]
  },
  {
   "cell_type": "code",
   "execution_count": 467,
   "metadata": {},
   "outputs": [
    {
     "data": {
      "text/plain": [
       "<matplotlib.axes._subplots.AxesSubplot at 0x7f8534608050>"
      ]
     },
     "execution_count": 467,
     "metadata": {},
     "output_type": "execute_result"
    },
    {
     "data": {
      "image/png": "[encoded data removed]",
      "text/plain": [
       "<Figure size 432x288 with 1 Axes>"
      ]
     },
     "metadata": {
      "needs_background": "light"
     },
     "output_type": "display_data"
    }
   ],
   "source": [
    "sns.boxplot(x=\"loyalty_program\", y=\"Quantity\", data=shop0, palette='rainbow')"
   ]
  },
  {
   "cell_type": "code",
   "execution_count": 468,
   "metadata": {},
   "outputs": [
    {
     "data": {
      "text/plain": [
       "<matplotlib.axes._subplots.AxesSubplot at 0x7f8534576ad0>"
      ]
     },
     "execution_count": 468,
     "metadata": {},
     "output_type": "execute_result"
    },
    {
     "data": {
      "image/png": "[encoded data removed]",
      "text/plain": [
       "<Figure size 432x288 with 1 Axes>"
      ]
     },
     "metadata": {
      "needs_background": "light"
     },
     "output_type": "display_data"
    }
   ],
   "source": [
    "sns.violinplot(x=\"loyalty_program\", y=\"Quantity\", data=shop0.query('Quantity < 800 and Quantity> -100'), palette='rainbow')"
   ]
  },
  {
   "cell_type": "code",
   "execution_count": 469,
   "metadata": {},
   "outputs": [],
   "source": [
    "shop0 = shop0.query('Quantity < 800 and Quantity> -100')"
   ]
  },
  {
   "cell_type": "markdown",
   "metadata": {},
   "source": [
    "<p style=\"font-family: verdana; color: orange\">Если прищуриться, то это похоже на небоскребы Нью-Йорка 😌</p>"
   ]
  },
  {
   "cell_type": "code",
   "execution_count": 470,
   "metadata": {},
   "outputs": [
    {
     "data": {
      "text/plain": [
       "loyalty_program\n",
       "0    106.540217\n",
       "1    113.962055\n",
       "Name: Quantity, dtype: float64"
      ]
     },
     "execution_count": 470,
     "metadata": {},
     "output_type": "execute_result"
    }
   ],
   "source": [
    "shop0.groupby(['loyalty_program'])['Quantity'].mean()"
   ]
  },
  {
   "cell_type": "markdown",
   "metadata": {},
   "source": [
    "Неавторизованные пользователи"
   ]
  },
  {
   "cell_type": "code",
   "execution_count": 471,
   "metadata": {},
   "outputs": [
    {
     "data": {
      "text/plain": [
       "53.53658536585366"
      ]
     },
     "execution_count": 471,
     "metadata": {},
     "output_type": "execute_result"
    }
   ],
   "source": [
    "shop0_0.query('CustomerID==0')['Quantity'].mean()"
   ]
  },
  {
   "cell_type": "markdown",
   "metadata": {},
   "source": [
    "Авторизованные пользователи"
   ]
  },
  {
   "cell_type": "code",
   "execution_count": 472,
   "metadata": {},
   "outputs": [
    {
     "data": {
      "text/plain": [
       "119.22586439155815"
      ]
     },
     "execution_count": 472,
     "metadata": {},
     "output_type": "execute_result"
    }
   ],
   "source": [
    "shop0_0.query('CustomerID!=0')['Quantity'].mean()"
   ]
  },
  {
   "cell_type": "markdown",
   "metadata": {},
   "source": [
    "<div style=\" padding: 20px\"> <h1 style=\" margin-bottom:20px\"> СРЕДНЯЯ ВЫРУЧКА</h1> <a id=\"step6\"></a>   \n",
    "</div>   "
   ]
  },
  {
   "cell_type": "code",
   "execution_count": 501,
   "metadata": {},
   "outputs": [
    {
     "data": {
      "text/html": [
       "<div>\n",
       "<style scoped>\n",
       "    .dataframe tbody tr th:only-of-type {\n",
       "        vertical-align: middle;\n",
       "    }\n",
       "\n",
       "    .dataframe tbody tr th {\n",
       "        vertical-align: top;\n",
       "    }\n",
       "\n",
       "    .dataframe thead th {\n",
       "        text-align: right;\n",
       "    }\n",
       "</style>\n",
       "<table border=\"1\" class=\"dataframe\">\n",
       "  <thead>\n",
       "    <tr style=\"text-align: right;\">\n",
       "      <th></th>\n",
       "      <th>CustomerID</th>\n",
       "      <th>cost_cart_loyal</th>\n",
       "      <th>loyalty_program</th>\n",
       "      <th>price_per_all</th>\n",
       "      <th>purchaseid</th>\n",
       "      <th>total</th>\n",
       "    </tr>\n",
       "  </thead>\n",
       "  <tbody>\n",
       "    <tr>\n",
       "      <td>0</td>\n",
       "      <td>0.0</td>\n",
       "      <td>600</td>\n",
       "      <td>0</td>\n",
       "      <td>65000.727239</td>\n",
       "      <td>533</td>\n",
       "      <td>65600.727239</td>\n",
       "    </tr>\n",
       "    <tr>\n",
       "      <td>1</td>\n",
       "      <td>18426.0</td>\n",
       "      <td>400</td>\n",
       "      <td>0</td>\n",
       "      <td>1701.086250</td>\n",
       "      <td>3</td>\n",
       "      <td>2101.086250</td>\n",
       "    </tr>\n",
       "    <tr>\n",
       "      <td>2</td>\n",
       "      <td>18427.0</td>\n",
       "      <td>600</td>\n",
       "      <td>0</td>\n",
       "      <td>5580.897375</td>\n",
       "      <td>35</td>\n",
       "      <td>6180.897375</td>\n",
       "    </tr>\n",
       "    <tr>\n",
       "      <td>3</td>\n",
       "      <td>18499.0</td>\n",
       "      <td>200</td>\n",
       "      <td>0</td>\n",
       "      <td>252.210476</td>\n",
       "      <td>1</td>\n",
       "      <td>452.210476</td>\n",
       "    </tr>\n",
       "    <tr>\n",
       "      <td>4</td>\n",
       "      <td>18502.0</td>\n",
       "      <td>200</td>\n",
       "      <td>0</td>\n",
       "      <td>852.635000</td>\n",
       "      <td>2</td>\n",
       "      <td>1052.635000</td>\n",
       "    </tr>\n",
       "    <tr>\n",
       "      <td>...</td>\n",
       "      <td>...</td>\n",
       "      <td>...</td>\n",
       "      <td>...</td>\n",
       "      <td>...</td>\n",
       "      <td>...</td>\n",
       "      <td>...</td>\n",
       "    </tr>\n",
       "    <tr>\n",
       "      <td>1528</td>\n",
       "      <td>23938.0</td>\n",
       "      <td>200</td>\n",
       "      <td>1</td>\n",
       "      <td>511.486111</td>\n",
       "      <td>1</td>\n",
       "      <td>711.486111</td>\n",
       "    </tr>\n",
       "    <tr>\n",
       "      <td>1529</td>\n",
       "      <td>23939.0</td>\n",
       "      <td>400</td>\n",
       "      <td>1</td>\n",
       "      <td>911.191824</td>\n",
       "      <td>3</td>\n",
       "      <td>1311.191824</td>\n",
       "    </tr>\n",
       "    <tr>\n",
       "      <td>1530</td>\n",
       "      <td>23948.0</td>\n",
       "      <td>200</td>\n",
       "      <td>1</td>\n",
       "      <td>162.555000</td>\n",
       "      <td>2</td>\n",
       "      <td>362.555000</td>\n",
       "    </tr>\n",
       "    <tr>\n",
       "      <td>1531</td>\n",
       "      <td>23956.0</td>\n",
       "      <td>200</td>\n",
       "      <td>1</td>\n",
       "      <td>-28.956667</td>\n",
       "      <td>1</td>\n",
       "      <td>171.043333</td>\n",
       "    </tr>\n",
       "    <tr>\n",
       "      <td>1532</td>\n",
       "      <td>23962.0</td>\n",
       "      <td>400</td>\n",
       "      <td>1</td>\n",
       "      <td>102.018833</td>\n",
       "      <td>3</td>\n",
       "      <td>502.018833</td>\n",
       "    </tr>\n",
       "  </tbody>\n",
       "</table>\n",
       "<p>1533 rows × 6 columns</p>\n",
       "</div>"
      ],
      "text/plain": [
       "      CustomerID  cost_cart_loyal  loyalty_program  price_per_all  purchaseid  \\\n",
       "0            0.0              600                0   65000.727239         533   \n",
       "1        18426.0              400                0    1701.086250           3   \n",
       "2        18427.0              600                0    5580.897375          35   \n",
       "3        18499.0              200                0     252.210476           1   \n",
       "4        18502.0              200                0     852.635000           2   \n",
       "...          ...              ...              ...            ...         ...   \n",
       "1528     23938.0              200                1     511.486111           1   \n",
       "1529     23939.0              400                1     911.191824           3   \n",
       "1530     23948.0              200                1     162.555000           2   \n",
       "1531     23956.0              200                1     -28.956667           1   \n",
       "1532     23962.0              400                1     102.018833           3   \n",
       "\n",
       "             total  \n",
       "0     65600.727239  \n",
       "1      2101.086250  \n",
       "2      6180.897375  \n",
       "3       452.210476  \n",
       "4      1052.635000  \n",
       "...            ...  \n",
       "1528    711.486111  \n",
       "1529   1311.191824  \n",
       "1530    362.555000  \n",
       "1531    171.043333  \n",
       "1532    502.018833  \n",
       "\n",
       "[1533 rows x 6 columns]"
      ]
     },
     "execution_count": 501,
     "metadata": {},
     "output_type": "execute_result"
    }
   ],
   "source": [
    "revenue = shop0.groupby(['CustomerID', 'cost_cart_loyal', 'loyalty_program']).agg({'price_per_all': 'sum', 'purchaseid': 'nunique'}).reset_index()\n",
    "revenue['total'] = revenue['cost_cart_loyal'] +  revenue['price_per_all']\n",
    "revenue"
   ]
  },
  {
   "cell_type": "code",
   "execution_count": 502,
   "metadata": {},
   "outputs": [
    {
     "data": {
      "text/plain": [
       "959.4563910585671"
      ]
     },
     "execution_count": 502,
     "metadata": {},
     "output_type": "execute_result"
    }
   ],
   "source": [
    "average_revenue_1 = revenue.query('loyalty_program==1')['total'].sum() / revenue.query('loyalty_program==1')['CustomerID'].nunique()\n",
    "average_revenue_1"
   ]
  },
  {
   "cell_type": "markdown",
   "metadata": {},
   "source": [
    "Авторизованные пользователи"
   ]
  },
  {
   "cell_type": "code",
   "execution_count": 504,
   "metadata": {},
   "outputs": [
    {
     "data": {
      "text/plain": [
       "753.0178331237662"
      ]
     },
     "execution_count": 504,
     "metadata": {},
     "output_type": "execute_result"
    }
   ],
   "source": [
    "frame_0_notNan = revenue.query('loyalty_program==0 and CustomerID!=0')\n",
    "average_revenue_0 = (frame_0_notNan['price_per_all'].sum() / frame_0_notNan['CustomerID'].nunique()) \n",
    "average_revenue_0"
   ]
  },
  {
   "cell_type": "code",
   "execution_count": 505,
   "metadata": {},
   "outputs": [
    {
     "data": {
      "text/plain": [
       "27.41482988237154"
      ]
     },
     "execution_count": 505,
     "metadata": {},
     "output_type": "execute_result"
    }
   ],
   "source": [
    "(average_revenue_1/average_revenue_0-1)*100"
   ]
  },
  {
   "cell_type": "markdown",
   "metadata": {},
   "source": [
    "<div style=\" padding: 20px\"> <h1 style=\" margin-bottom:20px\"> КОЛИЧЕСТВО ЧЕКОВ НА ПОЛЬЗОВАТЕЛЯ</h1> <a id=\"step7\"></a>   \n",
    "</div>  "
   ]
  },
  {
   "cell_type": "code",
   "execution_count": 506,
   "metadata": {},
   "outputs": [
    {
     "data": {
      "text/html": [
       "<div>\n",
       "<style scoped>\n",
       "    .dataframe tbody tr th:only-of-type {\n",
       "        vertical-align: middle;\n",
       "    }\n",
       "\n",
       "    .dataframe tbody tr th {\n",
       "        vertical-align: top;\n",
       "    }\n",
       "\n",
       "    .dataframe thead th {\n",
       "        text-align: right;\n",
       "    }\n",
       "</style>\n",
       "<table border=\"1\" class=\"dataframe\">\n",
       "  <thead>\n",
       "    <tr style=\"text-align: right;\">\n",
       "      <th></th>\n",
       "      <th>loyalty_program</th>\n",
       "      <th>CustomerID</th>\n",
       "      <th>day</th>\n",
       "      <th>purchaseid</th>\n",
       "    </tr>\n",
       "  </thead>\n",
       "  <tbody>\n",
       "    <tr>\n",
       "      <td>0</td>\n",
       "      <td>0</td>\n",
       "      <td>18025.0</td>\n",
       "      <td>2017-01-18</td>\n",
       "      <td>2</td>\n",
       "    </tr>\n",
       "    <tr>\n",
       "      <td>1</td>\n",
       "      <td>0</td>\n",
       "      <td>18426.0</td>\n",
       "      <td>2016-12-05</td>\n",
       "      <td>1</td>\n",
       "    </tr>\n",
       "    <tr>\n",
       "      <td>2</td>\n",
       "      <td>0</td>\n",
       "      <td>18426.0</td>\n",
       "      <td>2016-12-13</td>\n",
       "      <td>1</td>\n",
       "    </tr>\n",
       "    <tr>\n",
       "      <td>3</td>\n",
       "      <td>0</td>\n",
       "      <td>18426.0</td>\n",
       "      <td>2017-01-20</td>\n",
       "      <td>1</td>\n",
       "    </tr>\n",
       "    <tr>\n",
       "      <td>4</td>\n",
       "      <td>0</td>\n",
       "      <td>18427.0</td>\n",
       "      <td>2016-12-05</td>\n",
       "      <td>7</td>\n",
       "    </tr>\n",
       "    <tr>\n",
       "      <td>...</td>\n",
       "      <td>...</td>\n",
       "      <td>...</td>\n",
       "      <td>...</td>\n",
       "      <td>...</td>\n",
       "    </tr>\n",
       "    <tr>\n",
       "      <td>3194</td>\n",
       "      <td>1</td>\n",
       "      <td>23948.0</td>\n",
       "      <td>2016-12-16</td>\n",
       "      <td>1</td>\n",
       "    </tr>\n",
       "    <tr>\n",
       "      <td>3195</td>\n",
       "      <td>1</td>\n",
       "      <td>23956.0</td>\n",
       "      <td>2017-01-25</td>\n",
       "      <td>1</td>\n",
       "    </tr>\n",
       "    <tr>\n",
       "      <td>3196</td>\n",
       "      <td>1</td>\n",
       "      <td>23962.0</td>\n",
       "      <td>2017-01-06</td>\n",
       "      <td>1</td>\n",
       "    </tr>\n",
       "    <tr>\n",
       "      <td>3197</td>\n",
       "      <td>1</td>\n",
       "      <td>23962.0</td>\n",
       "      <td>2017-01-23</td>\n",
       "      <td>1</td>\n",
       "    </tr>\n",
       "    <tr>\n",
       "      <td>3198</td>\n",
       "      <td>1</td>\n",
       "      <td>23962.0</td>\n",
       "      <td>2017-02-28</td>\n",
       "      <td>1</td>\n",
       "    </tr>\n",
       "  </tbody>\n",
       "</table>\n",
       "<p>3199 rows × 4 columns</p>\n",
       "</div>"
      ],
      "text/plain": [
       "      loyalty_program  CustomerID        day  purchaseid\n",
       "0                   0     18025.0 2017-01-18           2\n",
       "1                   0     18426.0 2016-12-05           1\n",
       "2                   0     18426.0 2016-12-13           1\n",
       "3                   0     18426.0 2017-01-20           1\n",
       "4                   0     18427.0 2016-12-05           7\n",
       "...               ...         ...        ...         ...\n",
       "3194                1     23948.0 2016-12-16           1\n",
       "3195                1     23956.0 2017-01-25           1\n",
       "3196                1     23962.0 2017-01-06           1\n",
       "3197                1     23962.0 2017-01-23           1\n",
       "3198                1     23962.0 2017-02-28           1\n",
       "\n",
       "[3199 rows x 4 columns]"
      ]
     },
     "execution_count": 506,
     "metadata": {},
     "output_type": "execute_result"
    }
   ],
   "source": [
    "dash1 = df.query('ShopID==\"Shop 0\"').groupby(['loyalty_program','purchaseid','CustomerID', 'day']).agg({'price_per_all': 'sum'}).reset_index()\n",
    "dash1 = dash1.query('CustomerID!=0').groupby(['loyalty_program','CustomerID', 'day']).agg({'purchaseid': 'nunique'}).reset_index()\n",
    "dash1"
   ]
  },
  {
   "cell_type": "code",
   "execution_count": 507,
   "metadata": {},
   "outputs": [
    {
     "data": {
      "text/html": [
       "<div>\n",
       "<style scoped>\n",
       "    .dataframe tbody tr th:only-of-type {\n",
       "        vertical-align: middle;\n",
       "    }\n",
       "\n",
       "    .dataframe tbody tr th {\n",
       "        vertical-align: top;\n",
       "    }\n",
       "\n",
       "    .dataframe thead th {\n",
       "        text-align: right;\n",
       "    }\n",
       "</style>\n",
       "<table border=\"1\" class=\"dataframe\">\n",
       "  <thead>\n",
       "    <tr style=\"text-align: right;\">\n",
       "      <th></th>\n",
       "      <th>loyalty_program</th>\n",
       "      <th>CustomerID</th>\n",
       "      <th>day</th>\n",
       "      <th>purchaseid</th>\n",
       "    </tr>\n",
       "  </thead>\n",
       "  <tbody>\n",
       "    <tr>\n",
       "      <td>0</td>\n",
       "      <td>0</td>\n",
       "      <td>18025.0</td>\n",
       "      <td>2017-01-18</td>\n",
       "      <td>2</td>\n",
       "    </tr>\n",
       "    <tr>\n",
       "      <td>1</td>\n",
       "      <td>0</td>\n",
       "      <td>18426.0</td>\n",
       "      <td>2016-12-05</td>\n",
       "      <td>1</td>\n",
       "    </tr>\n",
       "    <tr>\n",
       "      <td>2</td>\n",
       "      <td>0</td>\n",
       "      <td>18426.0</td>\n",
       "      <td>2016-12-13</td>\n",
       "      <td>1</td>\n",
       "    </tr>\n",
       "    <tr>\n",
       "      <td>3</td>\n",
       "      <td>0</td>\n",
       "      <td>18426.0</td>\n",
       "      <td>2017-01-20</td>\n",
       "      <td>1</td>\n",
       "    </tr>\n",
       "    <tr>\n",
       "      <td>4</td>\n",
       "      <td>0</td>\n",
       "      <td>18427.0</td>\n",
       "      <td>2016-12-05</td>\n",
       "      <td>7</td>\n",
       "    </tr>\n",
       "    <tr>\n",
       "      <td>...</td>\n",
       "      <td>...</td>\n",
       "      <td>...</td>\n",
       "      <td>...</td>\n",
       "      <td>...</td>\n",
       "    </tr>\n",
       "    <tr>\n",
       "      <td>3194</td>\n",
       "      <td>1</td>\n",
       "      <td>23948.0</td>\n",
       "      <td>2016-12-16</td>\n",
       "      <td>1</td>\n",
       "    </tr>\n",
       "    <tr>\n",
       "      <td>3195</td>\n",
       "      <td>1</td>\n",
       "      <td>23956.0</td>\n",
       "      <td>2017-01-25</td>\n",
       "      <td>1</td>\n",
       "    </tr>\n",
       "    <tr>\n",
       "      <td>3196</td>\n",
       "      <td>1</td>\n",
       "      <td>23962.0</td>\n",
       "      <td>2017-01-06</td>\n",
       "      <td>1</td>\n",
       "    </tr>\n",
       "    <tr>\n",
       "      <td>3197</td>\n",
       "      <td>1</td>\n",
       "      <td>23962.0</td>\n",
       "      <td>2017-01-23</td>\n",
       "      <td>1</td>\n",
       "    </tr>\n",
       "    <tr>\n",
       "      <td>3198</td>\n",
       "      <td>1</td>\n",
       "      <td>23962.0</td>\n",
       "      <td>2017-02-28</td>\n",
       "      <td>1</td>\n",
       "    </tr>\n",
       "  </tbody>\n",
       "</table>\n",
       "<p>3199 rows × 4 columns</p>\n",
       "</div>"
      ],
      "text/plain": [
       "      loyalty_program  CustomerID        day  purchaseid\n",
       "0                   0     18025.0 2017-01-18           2\n",
       "1                   0     18426.0 2016-12-05           1\n",
       "2                   0     18426.0 2016-12-13           1\n",
       "3                   0     18426.0 2017-01-20           1\n",
       "4                   0     18427.0 2016-12-05           7\n",
       "...               ...         ...        ...         ...\n",
       "3194                1     23948.0 2016-12-16           1\n",
       "3195                1     23956.0 2017-01-25           1\n",
       "3196                1     23962.0 2017-01-06           1\n",
       "3197                1     23962.0 2017-01-23           1\n",
       "3198                1     23962.0 2017-02-28           1\n",
       "\n",
       "[3199 rows x 4 columns]"
      ]
     },
     "execution_count": 507,
     "metadata": {},
     "output_type": "execute_result"
    }
   ],
   "source": [
    "dash = dash1.query('CustomerID!=0')\n",
    "dash"
   ]
  },
  {
   "cell_type": "code",
   "execution_count": 508,
   "metadata": {},
   "outputs": [],
   "source": [
    "dash.to_csv('C:\\\\practicum\\\\dash.csv', sep=',', encoding='utf-8', header='true')"
   ]
  },
  {
   "cell_type": "code",
   "execution_count": 509,
   "metadata": {},
   "outputs": [
    {
     "data": {
      "text/plain": [
       "<matplotlib.axes._subplots.AxesSubplot at 0x7f8534324fd0>"
      ]
     },
     "execution_count": 509,
     "metadata": {},
     "output_type": "execute_result"
    },
    {
     "data": {
      "image/png": "[encoded data removed]",
      "text/plain": [
       "<Figure size 432x288 with 1 Axes>"
      ]
     },
     "metadata": {
      "needs_background": "light"
     },
     "output_type": "display_data"
    }
   ],
   "source": [
    "sns.violinplot(x=\"loyalty_program\", y=\"purchaseid\", data=revenue.query('CustomerID!=0 and purchaseid< 15'), palette='rainbow')"
   ]
  },
  {
   "cell_type": "code",
   "execution_count": 510,
   "metadata": {},
   "outputs": [],
   "source": [
    "#MSH revenue = revenue.query('purchaseid< 15')"
   ]
  },
  {
   "cell_type": "code",
   "execution_count": 511,
   "metadata": {},
   "outputs": [
    {
     "data": {
      "text/plain": [
       "loyalty_program\n",
       "0    2.319792\n",
       "1    2.211538\n",
       "Name: purchaseid, dtype: float64"
      ]
     },
     "execution_count": 511,
     "metadata": {},
     "output_type": "execute_result"
    }
   ],
   "source": [
    "revenue.query('CustomerID!=0').groupby(['loyalty_program'])['purchaseid'].mean()"
   ]
  },
  {
   "cell_type": "code",
   "execution_count": 512,
   "metadata": {},
   "outputs": [
    {
     "data": {
      "text/plain": [
       "2.3197916666666667"
      ]
     },
     "execution_count": 512,
     "metadata": {},
     "output_type": "execute_result"
    }
   ],
   "source": [
    "revenue_purch_0 = revenue.query('CustomerID!=0 and loyalty_program==0')\n",
    "revenue_purch_0['purchaseid'].mean()"
   ]
  },
  {
   "cell_type": "code",
   "execution_count": 513,
   "metadata": {},
   "outputs": [
    {
     "data": {
      "text/plain": [
       "2.2115384615384617"
      ]
     },
     "execution_count": 513,
     "metadata": {},
     "output_type": "execute_result"
    }
   ],
   "source": [
    "revenue_purch_1 = revenue.query('CustomerID!=0 and loyalty_program==1')\n",
    "revenue_purch_1['purchaseid'].mean()"
   ]
  },
  {
   "cell_type": "code",
   "execution_count": 514,
   "metadata": {},
   "outputs": [
    {
     "name": "stdout",
     "output_type": "stream",
     "text": [
      "p-значение: 0.4532742667472742\n",
      "Не получилось отвергнуть нулевую гипотезу\n"
     ]
    }
   ],
   "source": [
    "from scipy import stats as st\n",
    "alpha = .05\n",
    "# задаем критический уровень статистической значимости\n",
    "\n",
    "loyalnost = revenue_purch_1['purchaseid']\n",
    "other = revenue_purch_0['purchaseid']\n",
    "results = st.ttest_ind(loyalnost, other)\n",
    "#  проверяем гипотезу о равенстве средних двух независимых совокупностей\n",
    "\n",
    "print('p-значение:',results.pvalue)\n",
    "\n",
    "if (results.pvalue < alpha):\n",
    "    print(\"Отвергаем нулевую гипотезу\")\n",
    "else:\n",
    "    print(\"Не получилось отвергнуть нулевую гипотезу\")\n",
    "   "
   ]
  },
  {
   "cell_type": "code",
   "execution_count": 515,
   "metadata": {},
   "outputs": [
    {
     "data": {
      "text/plain": [
       "loyalty_program\n",
       "0    961\n",
       "1    572\n",
       "Name: CustomerID, dtype: int64"
      ]
     },
     "execution_count": 515,
     "metadata": {},
     "output_type": "execute_result"
    }
   ],
   "source": [
    "revenue.groupby(['loyalty_program'])['CustomerID'].nunique()"
   ]
  },
  {
   "cell_type": "markdown",
   "metadata": {},
   "source": [
    "Карта лояльности на количество чеков не влияет. "
   ]
  },
  {
   "cell_type": "code",
   "execution_count": 516,
   "metadata": {},
   "outputs": [],
   "source": [
    "revenue_stat = revenue[revenue['CustomerID'] == revenue['CustomerID']]\n",
    "revenue_stat_1 = revenue_stat.query('loyalty_program==1')\n",
    "revenue_stat_0 = revenue_stat.query('loyalty_program==0 and CustomerID!=0')"
   ]
  },
  {
   "cell_type": "markdown",
   "metadata": {},
   "source": [
    "<div style=\" padding: 20px\"> <h1 style=\" margin-bottom:20px\"> Проверим гипотезу о равенстве средних двух независимых совокупностей.</h1> <a id=\"step8\"></a>   \n",
    "</div> "
   ]
  },
  {
   "cell_type": "markdown",
   "metadata": {},
   "source": [
    "Проверяем гипотезу о равенстве средних двух независимых совокупностей (выручки)"
   ]
  },
  {
   "cell_type": "code",
   "execution_count": 517,
   "metadata": {},
   "outputs": [
    {
     "name": "stdout",
     "output_type": "stream",
     "text": [
      "p-значение: 0.00037719328855014407\n",
      "Отвергаем нулевую гипотезу\n"
     ]
    }
   ],
   "source": [
    "from scipy import stats as st\n",
    "alpha = .05\n",
    "# задаем критический уровень статистической значимости\n",
    "\n",
    "loyalnost = revenue_stat_1['total']\n",
    "other = revenue_stat_0['price_per_all']\n",
    "results = st.ttest_ind(loyalnost, other)\n",
    "#  проверяем гипотезу о равенстве средних двух независимых совокупностей\n",
    "\n",
    "print('p-значение:',results.pvalue)\n",
    "\n",
    "if (results.pvalue < alpha):\n",
    "    print(\"Отвергаем нулевую гипотезу\")\n",
    "else:\n",
    "    print(\"Не получилось отвергнуть нулевую гипотезу\")\n",
    "   "
   ]
  },
  {
   "cell_type": "markdown",
   "metadata": {},
   "source": [
    "<div style=\" padding: 20px\"> <h1 style=\" margin-bottom:20px\">Шаг 5. Общий вывод</h1><a id=\"step9\"></a>   \n",
    "</div>"
   ]
  },
  {
   "cell_type": "markdown",
   "metadata": {},
   "source": [
    "ИТОГО:\n",
    "Выручка по клиентам с картой лояльности – значимо выше (27%), при том что средний чек – на 7% меньше (скидки)\n",
    "Частота покупок с/без картой лояльности – одинаковая, количество товаров в чеке – одинаковая\n",
    "\n",
    "Необходимо посчитать % отказов  от использования картой лояльности за длинный период. Текущая программа лояльности повышает выручку с клиента, но не мотивирует его совершать покупки чаще.\n",
    "Если % отказов окажется большим – следует пересмотреть текущую систему лояльности.\n"
   ]
  },
  {
   "cell_type": "markdown",
   "metadata": {},
   "source": [
    "<p style=\"font-family: verdana; color: orange\">Давай с тобой еще раз посмотрим на графики и вообще на то, зачем они нужны.</p>\n",
    "\n",
    "<p style=\"font-family: verdana; color: orange\">Это твой вариант:</p>"
   ]
  },
  {
   "cell_type": "code",
   "execution_count": 519,
   "metadata": {},
   "outputs": [
    {
     "data": {
      "text/plain": [
       "<matplotlib.axes._subplots.AxesSubplot at 0x7f85342fe6d0>"
      ]
     },
     "execution_count": 519,
     "metadata": {},
     "output_type": "execute_result"
    },
    {
     "data": {
      "image/png": "[encoded data removed]",
      "text/plain": [
       "<Figure size 432x288 with 1 Axes>"
      ]
     },
     "metadata": {
      "needs_background": "light"
     },
     "output_type": "display_data"
    }
   ],
   "source": [
    "shop0.query('loyalty_program==0')['price_per_all'].plot()"
   ]
  },
  {
   "cell_type": "markdown",
   "metadata": {},
   "source": [
    "<p style=\"font-family: verdana; color: orange\">Их сложно сопоставлять по двум причинам:</p>\n",
    "\n",
    "1. <p style=\"font-family: verdana; color: orange\">Они очень шумные</p>\n",
    "1. <p style=\"font-family: verdana; color: orange\">Они не в одних осях</p>\n",
    "\n",
    "<p style=\"font-family: verdana; color: orange\">Мы можем решить первую проблему, просто отсортировав все значения, а вторую - построив в одних осях</p>"
   ]
  },
  {
   "cell_type": "code",
   "execution_count": 520,
   "metadata": {},
   "outputs": [
    {
     "data": {
      "text/plain": [
       "<matplotlib.axes._subplots.AxesSubplot at 0x7f85341f8c90>"
      ]
     },
     "execution_count": 520,
     "metadata": {},
     "output_type": "execute_result"
    },
    {
     "data": {
      "image/png": "[encoded data removed]",
      "text/plain": [
       "<Figure size 432x288 with 1 Axes>"
      ]
     },
     "metadata": {
      "needs_background": "light"
     },
     "output_type": "display_data"
    }
   ],
   "source": [
    "shop0.query('loyalty_program==0')['price_per_all'].sort_values().reset_index(drop=True).plot()\n",
    "shop0.query('loyalty_program==1')['price_per_all'].sort_values().reset_index(drop=True).plot()"
   ]
  },
  {
   "cell_type": "markdown",
   "metadata": {},
   "source": [
    "<p style=\"font-family: verdana; color: orange\">Видим новую проблему: данных не одинаковое количество, поэтому таким образом мы сравнить вообще не можем.</p>\n",
    "\n",
    "<p style=\"font-family: verdana; color: orange\">Окей, у нас ведь есть на выбор много замечательных вещей:</p>\n",
    "\n",
    "1. <p style=\"font-family: verdana; color: orange\">Гистограмма</p>\n",
    "1. <p style=\"font-family: verdana; color: orange\">KDE plot</p>\n",
    "1. <p style=\"font-family: verdana; color: orange\">Violin plot</p>"
   ]
  },
  {
   "cell_type": "code",
   "execution_count": 521,
   "metadata": {},
   "outputs": [],
   "source": [
    "import seaborn as sns"
   ]
  },
  {
   "cell_type": "code",
   "execution_count": 522,
   "metadata": {},
   "outputs": [],
   "source": [
    "is_not_loyal = shop0.query('loyalty_program==0')['price_per_all'] \n",
    "is_loyal = shop0.query('loyalty_program==1')['price_per_all'] "
   ]
  },
  {
   "cell_type": "code",
   "execution_count": 523,
   "metadata": {},
   "outputs": [],
   "source": [
    "is_not_loyal = is_not_loyal[(is_not_loyal > -2000) & (is_not_loyal < 4000)]\n",
    "is_loyal = is_loyal[(is_loyal > -2000) & (is_loyal < 4000)]"
   ]
  },
  {
   "cell_type": "code",
   "execution_count": 524,
   "metadata": {},
   "outputs": [
    {
     "data": {
      "text/plain": [
       "<matplotlib.axes._subplots.AxesSubplot at 0x7f85341b3e90>"
      ]
     },
     "execution_count": 524,
     "metadata": {},
     "output_type": "execute_result"
    },
    {
     "data": {
      "image/png": "[encoded data removed]",
      "text/plain": [
       "<Figure size 1440x504 with 1 Axes>"
      ]
     },
     "metadata": {
      "needs_background": "light"
     },
     "output_type": "display_data"
    }
   ],
   "source": [
    "plt.figure(figsize=(20, 7))\n",
    "sns.distplot(is_not_loyal)\n",
    "sns.distplot(is_loyal)"
   ]
  },
  {
   "cell_type": "markdown",
   "metadata": {},
   "source": [
    "<p style=\"font-family: verdana; color: orange\">Вот по этому графику можно явно сравнить и сказать, что они не особо-то отличаются.</p>"
   ]
  },
  {
   "cell_type": "markdown",
   "metadata": {},
   "source": [
    "---"
   ]
  },
  {
   "cell_type": "markdown",
   "metadata": {},
   "source": [
    "<p style=\"font-family: verdana; color: orange\">Поэкспериментируй сама, пожалуйста, построй violin plot: https://seaborn.pydata.org/generated/seaborn.violinplot.html , например.</p>"
   ]
  },
  {
   "cell_type": "markdown",
   "metadata": {},
   "source": [
    "---"
   ]
  },
  {
   "cell_type": "markdown",
   "metadata": {},
   "source": [
    "<p style=\"font-family: verdana; color: dodgerblue\">Насчет презентации:</p>\n",
    "\n",
    "> Возьмем только те\n",
    "магазины, где\n",
    "достаточно данных\n",
    "по лояльности и без.\n",
    "Оставим только\n",
    "Shop0\n",
    "\n",
    "> Оставляем 98%\n",
    "данных, и удаляем\n",
    "выбросы\n",
    "\n",
    "<p style=\"font-family: verdana; color: dodgerblue\">Вот эти детали не интересуют менеджеров, это твоя территория, и как ты предобрабатываешь данные, особо никого не интересует :)</p>\n",
    "\n",
    "<p style=\"font-family: verdana; color: dodgerblue\">То ли дело выводы и графики красивые!</p>"
   ]
  }
 ],
 "metadata": {
  "kernelspec": {
   "display_name": "Python 3",
   "language": "python",
   "name": "python3"
  },
  "language_info": {
   "codemirror_mode": {
    "name": "ipython",
    "version": 3
   },
   "file_extension": ".py",
   "mimetype": "text/x-python",
   "name": "python",
   "nbconvert_exporter": "python",
   "pygments_lexer": "ipython3",
   "version": "3.7.6"
  }
 },
 "nbformat": 4,
 "nbformat_minor": 4
}
