{
 "cells": [
  {
   "cell_type": "markdown",
   "metadata": {},
   "source": [
    "## Исследование надёжности заёмщиков\n",
    "\n",
    "Заказчик — кредитный отдел банка. Нужно разобраться, влияет ли семейное положение и количество детей клиента на факт погашения кредита в срок. Входные данные от банка — статистика о платёжеспособности клиентов.\n",
    "\n",
    "Результаты исследования будут учтены при построении модели **кредитного скоринга** — специальной системы, которая оценивает способность потенциального заёмщика вернуть кредит банку."
   ]
  },
  {
   "cell_type": "markdown",
   "metadata": {},
   "source": [
    "### Шаг 1. Откройте файл с данными и изучите общую информацию. "
   ]
  },
  {
   "cell_type": "code",
   "execution_count": 1,
   "metadata": {},
   "outputs": [
    {
     "name": "stdout",
     "output_type": "stream",
     "text": [
      "   children  days_employed  dob_years education  education_id  \\\n",
      "0         1   -8437.673028         42    высшее             0   \n",
      "1         1   -4024.803754         36   среднее             1   \n",
      "2         0   -5623.422610         33   Среднее             1   \n",
      "3         3   -4124.747207         32   среднее             1   \n",
      "4         0  340266.072047         53   среднее             1   \n",
      "\n",
      "      family_status  family_status_id gender income_type  debt   total_income  \\\n",
      "0   женат / замужем                 0      F   сотрудник     0  253875.639453   \n",
      "1   женат / замужем                 0      F   сотрудник     0  112080.014102   \n",
      "2   женат / замужем                 0      M   сотрудник     0  145885.952297   \n",
      "3   женат / замужем                 0      M   сотрудник     0  267628.550329   \n",
      "4  гражданский брак                 1      F   пенсионер     0  158616.077870   \n",
      "\n",
      "                      purpose  \n",
      "0               покупка жилья  \n",
      "1     приобретение автомобиля  \n",
      "2               покупка жилья  \n",
      "3  дополнительное образование  \n",
      "4             сыграть свадьбу  \n",
      "<class 'pandas.core.frame.DataFrame'>\n",
      "RangeIndex: 21525 entries, 0 to 21524\n",
      "Data columns (total 12 columns):\n",
      "children            21525 non-null int64\n",
      "days_employed       19351 non-null float64\n",
      "dob_years           21525 non-null int64\n",
      "education           21525 non-null object\n",
      "education_id        21525 non-null int64\n",
      "family_status       21525 non-null object\n",
      "family_status_id    21525 non-null int64\n",
      "gender              21525 non-null object\n",
      "income_type         21525 non-null object\n",
      "debt                21525 non-null int64\n",
      "total_income        19351 non-null float64\n",
      "purpose             21525 non-null object\n",
      "dtypes: float64(2), int64(5), object(5)\n",
      "memory usage: 2.0+ MB\n",
      "None\n"
     ]
    }
   ],
   "source": [
    "import pandas as pd\n",
    "data = pd.read_csv('/datasets/data.csv')\n",
    "print(data.head(5))\n",
    "print(data.info())\n"
   ]
  },
  {
   "cell_type": "markdown",
   "metadata": {},
   "source": [
    "### Вывод"
   ]
  },
  {
   "cell_type": "markdown",
   "metadata": {},
   "source": [
    "Данные не очень хорошие. Общий трудовой стаж отрицательный. Есть отрицательное количество детей. Много людей имеют по 20 детей, что странно. Много данных потеряно. "
   ]
  },
  {
   "cell_type": "markdown",
   "metadata": {},
   "source": [
    "### Шаг 2. Предобработка данных"
   ]
  },
  {
   "cell_type": "markdown",
   "metadata": {},
   "source": [
    "### Обработка пропусков"
   ]
  },
  {
   "cell_type": "code",
   "execution_count": 2,
   "metadata": {},
   "outputs": [
    {
     "name": "stdout",
     "output_type": "stream",
     "text": [
      "2174\n",
      "2194.220566878695\n",
      "24.14163324048118\n",
      "66914.72890682236\n",
      "401755.40047533\n",
      "75\n",
      "\n",
      "XXXXXXXXXXXXXXXXXXXXXXXXXXXX\n",
      "XXXXXXXXXXXXXXXXXXXXXXXXXXXX\n",
      " \n",
      "49705.41765116333\n",
      "\n",
      "\n",
      "\n",
      "0\n",
      "21525\n",
      "XXXXXXXXXXXXXXXXXXXXXXXXXXXX\n"
     ]
    }
   ],
   "source": [
    "\n",
    "data['days_employed_abs']=abs(data['days_employed'])\n",
    "#print(data.head(5))\n",
    "print(data['days_employed_abs'].isna().sum())\n",
    "print(data['days_employed_abs'].median())\n",
    "print(data['days_employed_abs'].min())\n",
    "print(data['days_employed_abs'].mean())\n",
    "print(data['days_employed_abs'].max())\n",
    "print(data['dob_years'].max())\n",
    "print('')\n",
    "#print(data[data['days_employed_abs'].isnull()].head())\n",
    "\n",
    "data['new']=data['dob_years'] - (data['days_employed_abs'])/365/24\n",
    "\n",
    "data.loc[data['new']<14, ['days_employed_abs']] = data['days_employed_abs'].median()\n",
    "#print(data[data['days_employed_abs']==data['days_employed_abs'].median()])\n",
    "\n",
    "data['children_new']=abs(data['children'])\n",
    "print('XXXXXXXXXXXXXXXXXXXXXXXXXXXX')        \n",
    "#print(data.loc[data['children_new']>15].head(15))\n",
    "\n",
    "#data.loc[data['children_new']>15, ['children_new']] = -1\n",
    "#print(data[data['children_new']==-1])\n",
    "print('XXXXXXXXXXXXXXXXXXXXXXXXXXXX')        \n",
    "print(' ')\n",
    "print(data['days_employed_abs'].mean())\n",
    "print('')\n",
    "data['days_employed_abs'] = data['days_employed_abs'].fillna(value=data['days_employed_abs'].mean())\n",
    "#print(data[data['total_income'].isnull()].head())\n",
    "print('')\n",
    "print('')\n",
    "print(data['days_employed_abs'].isna().sum())    \n",
    "print(data['days_employed_abs'].value_counts().sum())\n",
    "data['new_dob_years']=abs(data['dob_years'])\n",
    "data.loc[data['new_dob_years']<18, ['new_dob_years']] = data['dob_years'].median()\n",
    "#print(data[data['dob_years']<18])\n",
    "\n",
    "print('XXXXXXXXXXXXXXXXXXXXXXXXXXXX') "
   ]
  },
  {
   "cell_type": "code",
   "execution_count": 3,
   "metadata": {},
   "outputs": [
    {
     "name": "stdout",
     "output_type": "stream",
     "text": [
      "19351\n",
      "2174\n",
      "                  total_income\n",
      "income_type                   \n",
      "безработный      131339.751676\n",
      "в декрете         53829.130729\n",
      "госслужащий      170898.309923\n",
      "компаньон        202417.461462\n",
      "пенсионер        137127.465690\n",
      "предприниматель  499163.144947\n",
      "сотрудник        161380.260488\n",
      "студент           98201.625314\n",
      "21525\n",
      "0\n",
      "   children  days_employed  dob_years education  education_id  \\\n",
      "0         1   -8437.673028         42    высшее             0   \n",
      "1         1   -4024.803754         36   среднее             1   \n",
      "2         0   -5623.422610         33   Среднее             1   \n",
      "3         3   -4124.747207         32   среднее             1   \n",
      "4         0  340266.072047         53   среднее             1   \n",
      "\n",
      "      family_status  family_status_id gender income_type  debt   total_income  \\\n",
      "0   женат / замужем                 0      F   сотрудник     0  253875.639453   \n",
      "1   женат / замужем                 0      F   сотрудник     0  112080.014102   \n",
      "2   женат / замужем                 0      M   сотрудник     0  145885.952297   \n",
      "3   женат / замужем                 0      M   сотрудник     0  267628.550329   \n",
      "4  гражданский брак                 1      F   пенсионер     0  158616.077870   \n",
      "\n",
      "                      purpose  days_employed_abs        new  children_new  \\\n",
      "0               покупка жилья        8437.673028  41.036795             1   \n",
      "1     приобретение автомобиля        4024.803754  35.540548             1   \n",
      "2               покупка жилья        5623.422610  32.358057             0   \n",
      "3  дополнительное образование        4124.747207  31.529138             3   \n",
      "4             сыграть свадьбу      340266.072047  14.156841             0   \n",
      "\n",
      "   new_dob_years  \n",
      "0           42.0  \n",
      "1           36.0  \n",
      "2           33.0  \n",
      "3           32.0  \n",
      "4           53.0  \n"
     ]
    }
   ],
   "source": [
    "\n",
    "print(data['total_income'].count())\n",
    "print(data['total_income'].isnull().sum())\n",
    "\n",
    "import numpy as np\n",
    "print(data.pivot_table(index='income_type', values='total_income', aggfunc= np.nanmean))\n",
    "#print(data[data['total_income'].isnull()])\n",
    "profesii = data['income_type'].unique()\n",
    "\n",
    "data_group_mean = data.groupby('income_type')['total_income'].mean()\n",
    " \n",
    "def data_isnull(row):\n",
    "    income_type = row['income_type']\n",
    "    total_income = row['total_income']\n",
    "    if pd.isnull(total_income) == False:\n",
    "        return total_income\n",
    "    if pd.isnull(total_income) == True:\n",
    "        return data_group_mean[income_type]\n",
    "\n",
    "data['total_income'] = data.apply(data_isnull, axis=1)\n",
    "\n",
    "\n",
    "#data['total_income'] = data.groupby('income_type').transform(lambda x: x.fillna(x.mean()))\n",
    "\n",
    "print(data['total_income'].count())\n",
    "print(data['total_income'].isnull().sum())\n",
    "print(data.head())\n"
   ]
  },
  {
   "cell_type": "markdown",
   "metadata": {},
   "source": [
    "### Вывод"
   ]
  },
  {
   "cell_type": "markdown",
   "metadata": {},
   "source": [
    "Были заменины пропуски в соответствии с родом деятельности на среднее сначение"
   ]
  },
  {
   "cell_type": "markdown",
   "metadata": {},
   "source": [
    "### Замена типа данных"
   ]
  },
  {
   "cell_type": "code",
   "execution_count": 4,
   "metadata": {},
   "outputs": [
    {
     "name": "stdout",
     "output_type": "stream",
     "text": [
      "<class 'pandas.core.frame.DataFrame'>\n",
      "RangeIndex: 21525 entries, 0 to 21524\n",
      "Data columns (total 16 columns):\n",
      "children             21525 non-null int64\n",
      "days_employed        19351 non-null float64\n",
      "dob_years            21525 non-null int64\n",
      "education            21525 non-null object\n",
      "education_id         21525 non-null int64\n",
      "family_status        21525 non-null object\n",
      "family_status_id     21525 non-null int64\n",
      "gender               21525 non-null object\n",
      "income_type          21525 non-null object\n",
      "debt                 21525 non-null int64\n",
      "total_income         21525 non-null int64\n",
      "purpose              21525 non-null object\n",
      "days_employed_abs    21525 non-null int64\n",
      "new                  19351 non-null float64\n",
      "children_new         21525 non-null int64\n",
      "new_dob_years        21525 non-null float64\n",
      "dtypes: float64(3), int64(8), object(5)\n",
      "memory usage: 2.6+ MB\n",
      "None\n"
     ]
    }
   ],
   "source": [
    "data['days_employed_abs'] =data['days_employed_abs'].astype('int')\n",
    "data['total_income'] =data['total_income'].astype('int')\n",
    "print(data.info())"
   ]
  },
  {
   "cell_type": "markdown",
   "metadata": {},
   "source": [
    "### Вывод"
   ]
  },
  {
   "cell_type": "markdown",
   "metadata": {},
   "source": [
    "days_employed  и total_incomeна  заменены на int\n"
   ]
  },
  {
   "cell_type": "markdown",
   "metadata": {},
   "source": [
    "### Обработка дубликатов"
   ]
  },
  {
   "cell_type": "code",
   "execution_count": 5,
   "metadata": {},
   "outputs": [
    {
     "name": "stdout",
     "output_type": "stream",
     "text": [
      "среднее                15233\n",
      "высшее                  5260\n",
      "неоконченное высшее      744\n",
      "начальное                282\n",
      "ученая степень             6\n",
      "Name: education_lowercase, dtype: int64\n",
      "0    12380\n",
      "1     4177\n",
      "4     2813\n",
      "3     1195\n",
      "2      960\n",
      "Name: family_status_id, dtype: int64\n"
     ]
    }
   ],
   "source": [
    "data['education_lowercase'] = data['education'].str.lower()\n",
    "print(data['education_lowercase'].value_counts())\n",
    "print(data['family_status_id'].value_counts())"
   ]
  },
  {
   "cell_type": "code",
   "execution_count": 6,
   "metadata": {},
   "outputs": [
    {
     "name": "stdout",
     "output_type": "stream",
     "text": [
      "54\n",
      "0\n"
     ]
    }
   ],
   "source": [
    "print(data.duplicated().sum())\n",
    "#print(data[data.duplicated(keep = 'first')])\n",
    "data = data.drop_duplicates().reset_index(drop = True)\n",
    "print(data.duplicated().sum())"
   ]
  },
  {
   "cell_type": "markdown",
   "metadata": {},
   "source": [
    "### Вывод"
   ]
  },
  {
   "cell_type": "markdown",
   "metadata": {},
   "source": [
    "Заменены строковые значения и удалены дубликаты"
   ]
  },
  {
   "cell_type": "markdown",
   "metadata": {},
   "source": [
    "### Лемматизация"
   ]
  },
  {
   "cell_type": "code",
   "execution_count": 7,
   "metadata": {},
   "outputs": [
    {
     "name": "stdout",
     "output_type": "stream",
     "text": [
      "операции с недвижимостью    10814\n",
      "авто                         4308\n",
      "образование                  4014\n",
      "свадьба                      2335\n",
      "Name: purpose_group, dtype: int64\n"
     ]
    },
    {
     "name": "stderr",
     "output_type": "stream",
     "text": [
      "/opt/conda/lib/python3.7/site-packages/ipykernel_launcher.py:29: SettingWithCopyWarning: \n",
      "A value is trying to be set on a copy of a slice from a DataFrame.\n",
      "Try using .loc[row_indexer,col_indexer] = value instead\n",
      "\n",
      "See the caveats in the documentation: http://pandas.pydata.org/pandas-docs/stable/user_guide/indexing.html#returning-a-view-versus-a-copy\n"
     ]
    }
   ],
   "source": [
    "from pymystem3 import Mystem\n",
    "m = Mystem()\n",
    "data_purpose=data[['debt','purpose']]\n",
    "def purpose_group(purpose):\n",
    "    lemmas_row=m.lemmatize(purpose)\n",
    "    \n",
    "    for word in lemmas_row:\n",
    "        if word== 'недвижимость' :\n",
    "            return 'операции с недвижимостью'\n",
    "        if word== 'жилье' :\n",
    "            return 'операции с недвижимостью'\n",
    "        if word== 'строительство' :\n",
    "            return 'операции с недвижимостью'\n",
    "        if word== 'жилой' :\n",
    "            return 'операции с недвижимостью'\n",
    "        if word== 'коммерческий' :\n",
    "            return 'операции с недвижимостью'\n",
    "       \n",
    "        if word== 'автомобиль' :\n",
    "            return 'авто'\n",
    "       \n",
    "        if word== 'образование' :\n",
    "            return 'образование'\n",
    "       \n",
    "        if word== 'свадьба' :\n",
    "            return 'свадьба'\n",
    "       \n",
    "                   \n",
    "data_purpose['purpose_group']=data_purpose['purpose'].apply(purpose_group)    \n",
    " \n",
    "print(data_purpose['purpose_group'].value_counts())\n",
    "          "
   ]
  },
  {
   "cell_type": "markdown",
   "metadata": {},
   "source": [
    "### Вывод"
   ]
  },
  {
   "cell_type": "markdown",
   "metadata": {},
   "source": [
    "Чаще всего люди берут кредиты на операции с недвижимостью. Потом берут кредиты на авто. Далее идет образование. И оказывается люди берут кредиты даже на свадьбы.\n"
   ]
  },
  {
   "cell_type": "markdown",
   "metadata": {},
   "source": [
    "### Шаг 3. Ответьте на вопросы"
   ]
  },
  {
   "cell_type": "markdown",
   "metadata": {},
   "source": [
    "- Есть ли зависимость между наличием детей и возвратом кредита в срок?"
   ]
  },
  {
   "cell_type": "code",
   "execution_count": 8,
   "metadata": {},
   "outputs": [
    {
     "name": "stdout",
     "output_type": "stream",
     "text": [
      "                   debt          \n",
      "                procent       std\n",
      "children_new                     \n",
      "0              7.535266  0.263969\n",
      "1              9.163921  0.288546\n",
      "2              9.454191  0.292652\n",
      "3              8.181818  0.274504\n",
      "4              9.756098  0.300406\n",
      "5              0.000000  0.000000\n",
      "20            10.526316  0.308931\n"
     ]
    }
   ],
   "source": [
    "import numpy as np\n",
    "def procent(a):   \n",
    "    return np.mean(a)*100\n",
    "\n",
    "#data_y_children = data['children'].sum()\n",
    "data_y_children_y_debt = pd.pivot_table(data, values=['debt'], index= ['children_new'], aggfunc= {'debt': [procent, np.std]})\n",
    "print(data_y_children_y_debt)\n",
    "\n",
    "\n",
    "\n"
   ]
  },
  {
   "cell_type": "markdown",
   "metadata": {},
   "source": [
    "### Вывод"
   ]
  },
  {
   "cell_type": "markdown",
   "metadata": {},
   "source": [
    "странное количество семей с 20 детьми данные надо проверить"
   ]
  },
  {
   "cell_type": "markdown",
   "metadata": {},
   "source": [
    "- Есть ли зависимость между семейным положением и возвратом кредита в срок?"
   ]
  },
  {
   "cell_type": "code",
   "execution_count": 9,
   "metadata": {},
   "outputs": [
    {
     "name": "stdout",
     "output_type": "stream",
     "text": [
      "                           debt          \n",
      "                        procent       std\n",
      "family_status                            \n",
      "Не женат / не замужем  9.750890  0.296702\n",
      "в разводе              7.112971  0.257149\n",
      "вдовец / вдова         6.569343  0.247875\n",
      "гражданский брак       9.320202  0.290750\n",
      "женат / замужем        7.542126  0.264081\n"
     ]
    }
   ],
   "source": [
    "\n",
    "data_y_family_status_id_y_debt = pd.pivot_table(data, values=['debt'], index= ['family_status'], aggfunc= {'debt': [procent, np.std]})\n",
    "print(data_y_family_status_id_y_debt)"
   ]
  },
  {
   "cell_type": "markdown",
   "metadata": {},
   "source": [
    "- Есть ли зависимость между уровнем дохода и возвратом кредита в срок?"
   ]
  },
  {
   "cell_type": "code",
   "execution_count": 10,
   "metadata": {},
   "outputs": [
    {
     "name": "stdout",
     "output_type": "stream",
     "text": [
      "98554.0\n",
      "135514.0\n",
      "214565.0\n",
      "               debt                      \n",
      "                len     procent       std\n",
      "income_type                              \n",
      "безработный     1.0  100.000000       NaN\n",
      "в декрете       1.0  100.000000       NaN\n",
      "госслужащий   278.0    7.553957  0.264737\n",
      "компаньон     557.0    8.078995  0.272757\n",
      "пенсионер    1246.0    4.895666  0.215864\n",
      "сотрудник    2210.0    9.909502  0.298857\n",
      "студент         1.0    0.000000       NaN\n",
      "__________________________________\n",
      "               debt                    \n",
      "                len   procent       std\n",
      "income_type                            \n",
      "госслужащий   282.0  6.028369  0.238435\n",
      "компаньон     841.0  7.728894  0.267208\n",
      "пенсионер     812.0  4.556650  0.208672\n",
      "сотрудник    2358.0  9.669211  0.295601\n",
      "__________________________________\n",
      "               debt                    \n",
      "                len   procent       std\n",
      "income_type                            \n",
      "госслужащий   185.0  5.405405  0.226738\n",
      "компаньон     647.0  7.727975  0.267241\n",
      "пенсионер     826.0  7.506053  0.263649\n",
      "сотрудник    2566.0  6.079501  0.239001\n",
      "__________________________________\n",
      "               debt                    \n",
      "                len   procent       std\n",
      "income_type                            \n",
      "безработный     1.0  0.000000       NaN\n",
      "госслужащий   403.0  4.962779  0.217445\n",
      "компаньон    1467.0  5.180641  0.221712\n",
      "пенсионер     508.0  5.314961  0.224553\n",
      "сотрудник    1860.0  9.139785  0.288252\n",
      "__________________________________\n",
      "                   debt                    \n",
      "                    len   procent       std\n",
      "income_type                                \n",
      "госслужащий       309.0  5.825243  0.234600\n",
      "компаньон        1537.0  7.091737  0.256770\n",
      "пенсионер         445.0  6.516854  0.247101\n",
      "предприниматель     2.0  0.000000  0.000000\n",
      "сотрудник        1998.0  9.459459  0.292727\n"
     ]
    }
   ],
   "source": [
    "\n",
    "\n",
    "print(data['total_income'].quantile(0.2))\n",
    "print(data['total_income'].quantile(0.4))\n",
    "print(data['total_income'].quantile(0.8))\n",
    "\n",
    "data_02 = data[data['total_income']<data.groupby('debt')['total_income'].transform('quantile',0.2)]\n",
    "data_y_total_income_y_debt = pd.pivot_table(data_02, values=['debt'], index= ['income_type'], aggfunc= {'debt': [procent, np.std, len]})\n",
    "print(data_y_total_income_y_debt)\n",
    "print('__________________________________')\n",
    "data_04 = data[(data['total_income']>data.groupby('debt')['total_income'].transform('quantile',0.2)) & (data['total_income']<data.groupby('debt')['total_income'].transform('quantile',0.4))]\n",
    "data_y_total_income_y_debt_04= pd.pivot_table(data_04, values=['debt'], index= ['income_type'], aggfunc= {'debt': [procent, np.std, len]})\n",
    "print(data_y_total_income_y_debt_04)\n",
    "print('__________________________________')\n",
    "data_06 = data[(data['total_income']>data.groupby('debt')['total_income'].transform('quantile',0.4)) & (data['total_income']<data.groupby('debt')['total_income'].transform('quantile',0.6))]\n",
    "data_y_total_income_y_debt_06= pd.pivot_table(data_06, values=['debt'], index= ['income_type'], aggfunc= {'debt': [procent, np.std, len]})\n",
    "print(data_y_total_income_y_debt_06)\n",
    "print('__________________________________')\n",
    "data_08 = data[(data['total_income']>data.groupby('debt')['total_income'].transform('quantile',0.6)) & (data['total_income']<data.groupby('debt')['total_income'].transform('quantile',0.8))]\n",
    "data_y_total_income_y_debt_08= pd.pivot_table(data_08, values=['debt'], index= ['income_type'], aggfunc= {'debt': [procent, np.std, len]})\n",
    "print(data_y_total_income_y_debt_08)\n",
    "print('__________________________________')\n",
    "data_1 = data[data['total_income']>data.groupby('debt')['total_income'].transform('quantile',0.8)]\n",
    "data_y_total_income_y_debt_1 = pd.pivot_table(data_1, values=['debt'], index= ['income_type'], aggfunc= {'debt': [procent, np.std, len]})\n",
    "print(data_y_total_income_y_debt_1)"
   ]
  },
  {
   "cell_type": "markdown",
   "metadata": {},
   "source": [
    "### Вывод"
   ]
  },
  {
   "cell_type": "markdown",
   "metadata": {},
   "source": [
    "Сделала категории по уровню дохода и рассчитала проценты невозврата для каждому роду деятельности."
   ]
  },
  {
   "cell_type": "markdown",
   "metadata": {},
   "source": [
    "- Как разные цели кредита влияют на его возврат в срок?"
   ]
  },
  {
   "cell_type": "code",
   "execution_count": 12,
   "metadata": {},
   "outputs": [
    {
     "name": "stdout",
     "output_type": "stream",
     "text": [
      "                              debt          \n",
      "                           procent       std\n",
      "purpose_group                               \n",
      "авто                      9.354689  0.291231\n",
      "образование               9.217738  0.289312\n",
      "операции с недвижимостью  7.231367  0.259019\n",
      "свадьба                   7.965739  0.270820\n"
     ]
    }
   ],
   "source": [
    "data_y_purpose_group_id_y_debt = pd.pivot_table(data_purpose, values=['debt'], index= ['purpose_group'], aggfunc= {'debt': [procent, np.std]})\n",
    "print(data_y_purpose_group_id_y_debt)\n",
    "\n"
   ]
  }
 ],
 "metadata": {
  "kernelspec": {
   "display_name": "Python 3",
   "language": "python",
   "name": "python3"
  },
  "language_info": {
   "codemirror_mode": {
    "name": "ipython",
    "version": 3
   },
   "file_extension": ".py",
   "mimetype": "text/x-python",
   "name": "python",
   "nbconvert_exporter": "python",
   "pygments_lexer": "ipython3",
   "version": "3.8.5"
  }
 },
 "nbformat": 4,
 "nbformat_minor": 2
}
